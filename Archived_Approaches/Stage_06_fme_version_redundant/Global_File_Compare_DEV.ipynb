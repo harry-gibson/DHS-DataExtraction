{
 "metadata": {
  "name": "",
  "signature": "sha256:d987d0d9195e831e9d47bd1907df070bdf7d74eb1b6469a39da8187e8ed9cb84"
 },
 "nbformat": 3,
 "nbformat_minor": 0,
 "worksheets": [
  {
   "cells": [
    {
     "cell_type": "code",
     "collapsed": false,
     "input": [
      "allVarsSorted = sorted(allVars, key=(itemgetter('RecordTypeValue','Start')))"
     ],
     "language": "python",
     "metadata": {},
     "outputs": [
      {
       "ename": "NameError",
       "evalue": "name 'allVars' is not defined",
       "output_type": "pyerr",
       "traceback": [
        "\u001b[1;31m---------------------------------------------------------------------------\u001b[0m\n\u001b[1;31mNameError\u001b[0m                                 Traceback (most recent call last)",
        "\u001b[1;32m<ipython-input-1-fb9763dcf05d>\u001b[0m in \u001b[0;36m<module>\u001b[1;34m()\u001b[0m\n\u001b[1;32m----> 1\u001b[1;33m \u001b[0mallVarsSorted\u001b[0m \u001b[1;33m=\u001b[0m \u001b[0msorted\u001b[0m\u001b[1;33m(\u001b[0m\u001b[0mallVars\u001b[0m\u001b[1;33m,\u001b[0m \u001b[0mkey\u001b[0m\u001b[1;33m=\u001b[0m\u001b[1;33m(\u001b[0m\u001b[0mitemgetter\u001b[0m\u001b[1;33m(\u001b[0m\u001b[1;34m'RecordTypeValue'\u001b[0m\u001b[1;33m,\u001b[0m\u001b[1;34m'Start'\u001b[0m\u001b[1;33m)\u001b[0m\u001b[1;33m)\u001b[0m\u001b[1;33m)\u001b[0m\u001b[1;33m\u001b[0m\u001b[0m\n\u001b[0m",
        "\u001b[1;31mNameError\u001b[0m: name 'allVars' is not defined"
       ]
      }
     ],
     "prompt_number": 1
    },
    {
     "cell_type": "code",
     "collapsed": false,
     "input": [
      "d = {}\n",
      "for i in allVarsSorted:\n",
      "    if i['RecordTypeValue'] not in d:\n",
      "        d[i['RecordTypeValue']] = []\n",
      "    d[i['RecordTypeValue']].append(i)\n",
      "#{(allVars[i]['RecordName'],[f for f in allVars if f['RecordName']==allVars[i]['RecordName']]) for i in range (len(allVars))}"
     ],
     "language": "python",
     "metadata": {},
     "outputs": []
    },
    {
     "cell_type": "code",
     "collapsed": false,
     "input": [
      "res = {}\n",
      "for line in data:\n",
      "    recordType = line[15:18]\n",
      "    recordSpec = d[recordType]\n",
      "    if recordType not in res:\n",
      "        res[recordType] = []\n",
      "    rowParts = [(line[i['Start']-1 : i['Start']+i['Len']-1]).strip() for i in recordSpec]\n",
      "    res[recordType].append(rowParts)#(\",\".join(rowParts))"
     ],
     "language": "python",
     "metadata": {},
     "outputs": []
    },
    {
     "cell_type": "code",
     "collapsed": false,
     "input": [
      "for recordtype,fields in d.iteritems():\n",
      "    fieldHeader = [i['Name'] for i in fields]\n",
      "    fieldRecords = set([i['RecordName'] for i in fields])\n",
      "    assert len(fieldRecords) == 1\n",
      "    outFN = r'C:\\Users\\zool1301\\Documents\\DHS\\Phase6\\ExtractedSurveyRecords_Python\\{0!s}.{1!s}.csv'.format(\n",
      "        'BDIR61',fieldRecords.pop())\n",
      "    with open(outFN, 'wb') as outcsv:\n",
      "        csvwriter = csv.writer(outcsv)\n",
      "        csvwriter.writerow(fieldHeader)\n",
      "        csvwriter.writerows(res[recordtype])"
     ],
     "language": "python",
     "metadata": {},
     "outputs": []
    }
   ],
   "metadata": {}
  }
 ]
}