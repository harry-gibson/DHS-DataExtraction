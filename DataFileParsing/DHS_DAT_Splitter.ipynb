{
 "metadata": {
  "name": "",
  "signature": "sha256:998f469181292e169fcb4b68b1dfd053320b2410708f26b4e9576f013af9e100"
 },
 "nbformat": 3,
 "nbformat_minor": 0,
 "worksheets": [
  {
   "cells": [
    {
     "cell_type": "code",
     "collapsed": false,
     "input": [
      "import csv\n",
      "import glob\n",
      "from operator import itemgetter\n",
      "import os"
     ],
     "language": "python",
     "metadata": {},
     "outputs": [],
     "prompt_number": 1
    },
    {
     "cell_type": "code",
     "collapsed": false,
     "input": [
      "#inSpecDir = r'C:\\Users\\zool1301\\Documents\\DHS\\Acquisition\\20150626_FullSiteScrape\\ParsedSpecs'\n",
      "#inDataDir = r'C:\\Users\\zool1301\\Documents\\DHS\\Acquisition\\20150626_FullSiteScrape\\downloads\\358'\n",
      "\n",
      "inSpecDir = r'\\\\129.67.26.176\\map_data\\DHS_Automation\\DataExtraction\\20160307_Updates\\ParsedSpecs'\n",
      "inDataDir = r'\\\\129.67.26.176\\map_data\\DHS_Automation\\Acquisition\\20160307_Updates\\downloads'\n",
      "outputCSVTableDir = r'\\\\129.67.26.176\\map_data\\DHS_Automation\\DataExtraction\\20160307_Updates\\ProcessedTables'\n",
      "\n",
      "#outputCSVTableDir = r'C:\\Users\\zool1301\\Documents\\DHS\\Acquisition\\20150626_FullSiteScrape\\ProcessedTables'"
     ],
     "language": "python",
     "metadata": {},
     "outputs": [],
     "prompt_number": 2
    },
    {
     "cell_type": "code",
     "collapsed": false,
     "input": [
      "allDatFiles = glob.glob(os.path.join(inDataDir, '*', '*.dat'))\n",
      "nColsPerRecType = {}\n",
      "# rtFieldInfoAllFiles = {}\n",
      "# resGlobal = {}"
     ],
     "language": "python",
     "metadata": {},
     "outputs": [],
     "prompt_number": 5
    },
    {
     "cell_type": "code",
     "collapsed": false,
     "input": [
      "allDatFiles"
     ],
     "language": "python",
     "metadata": {},
     "outputs": []
    },
    {
     "cell_type": "markdown",
     "metadata": {},
     "source": [
      "Parses all DAT files based on their record specifications, generated separately, into individual CSVs: one per file and per record type"
     ]
    },
    {
     "cell_type": "code",
     "collapsed": false,
     "input": [
      "if not os.path.exists(outputCSVTableDir):\n",
      "    os.makedirs(outputCSVTableDir)\n",
      "else:\n",
      "    assert os.path.isdir(outputCSVTableDir)\n",
      "for datFN in allDatFiles:\n",
      "    # get the corresponding spec file\n",
      "    #filecode = os.path.basename(datFN).split(os.extsep)[0]\n",
      "    filecode = os.path.extsep.join(os.path.basename(datFN).split(os.path.extsep)[:-1])\n",
      "    specFileName = os.path.join(inSpecDir, '{0!s}.FlatRecordSpec.csv'.format(filecode))\n",
      "    \n",
      "    outTestFN = os.path.join(outputCSVTableDir, \n",
      "                             '{0!s}.{1!s}.csv'.format(filecode,'REC01'))\n",
      "    if os.path.exists(outTestFN):\n",
      "        print \"Already did \"+filecode\n",
      "        continue\n",
      "    print \"Parsing \"+filecode\n",
      "    # read the variables of this survey\n",
      "    with open(specFileName,'r') as dictFile:\n",
      "        dictFileReader = csv.DictReader(dictFile)\n",
      "        # the record type position info must be in the first line\n",
      "        recordTypeInfo = dictFileReader.next()\n",
      "        rtStart = int(recordTypeInfo['Start'])-1\n",
      "        rtEnd = int(recordTypeInfo['Len']) + rtStart\n",
      "        allVarsThisFile = [row for row in dictFileReader]\n",
      "    for fieldInfo in allVarsThisFile:\n",
      "        fieldInfo['Start'] = int(fieldInfo['Start'])\n",
      "        fieldInfo['Len'] = int(fieldInfo['Len'])\n",
      "    # sort them by record type then position in the row\n",
      "    allVarsThisFileSorted = sorted(allVarsThisFile, \n",
      "                                   key=(itemgetter('RecordTypeValue','Start')))\n",
      "    \n",
      "    # build dictionary of record type : list of its fields\n",
      "    rtFieldInfoThisFile = {}\n",
      "    for fieldInfo in allVarsThisFileSorted:\n",
      "        recordTag = fieldInfo['RecordTypeValue']\n",
      "        # do it for this file specifically\n",
      "        if recordTag not in rtFieldInfoThisFile:\n",
      "            rtFieldInfoThisFile[recordTag] = []\n",
      "        rtFieldInfoThisFile[recordTag].append(fieldInfo)\n",
      "        \n",
      "#       # build one across all files that contain this record type\n",
      "#         requires lotsa memory!\n",
      "#        if recordTag not in rtFieldInfoAllFiles:\n",
      "#            rtFieldInfoAllFiles[recordTag] = {}\n",
      "#        fieldName = fieldInfo['Name']\n",
      "#        if fieldName not in rtFieldInfoAllFiles[recordTag]:\n",
      "#            rtFieldInfoAllFiles[recordTag][fieldName] = fieldInfo\n",
      "#        else:\n",
      "#            # the position of a given field in the line has to be the same each time\n",
      "#            assert rtFieldInfoAllFiles[recordTag][fieldName]['Start'] == fieldInfo['Start']\n",
      "#            assert rtFieldInfoAllFiles[recordTag][fieldName]['Len'] == fieldInfo['Len']\n",
      "    \n",
      "    # read the data and put everything into a list in a dictionary keyed by record type\n",
      "    res = {}\n",
      "    colsPerRecTypeThisFile = {}\n",
      "    with open(datFN, 'r') as data:\n",
      "        for line in data:\n",
      "            recordtype = line[rtStart:rtEnd]\n",
      "            # get the spec for this type of row\n",
      "            if recordtype not in rtFieldInfoThisFile:\n",
      "                print \"Specification for recordtype '{0!s}' not found in file for {1!s}\".format(\n",
      "                    recordtype, filecode)\n",
      "                continue\n",
      "            recordSpec = rtFieldInfoThisFile[recordtype]\n",
      "            if recordtype not in res:\n",
      "                res[recordtype] = []\n",
      "            # split the column-aligned text according to the row specification\n",
      "            rowParts = []\n",
      "            # this is the part that is inefficient in FME (lots of list items)\n",
      "            #rowParts = [(line[i['Start']-1 : i['Start']+i['Len']-1]).strip() for i in recordSpec]\n",
      "            rowParts = [(line[i['Start']-1 : i['Start']+i['Len']-1]) for i in recordSpec]\n",
      "            if recordtype not in colsPerRecTypeThisFile:\n",
      "                colsPerRecTypeThisFile[recordtype] = len(rowParts)\n",
      "            else:\n",
      "                assert len(rowParts) == colsPerRecTypeThisFile[recordtype]\n",
      "            # add as a list to the list of rows for this record type\n",
      "            res[recordtype].append(rowParts)#(\",\".join(rowParts))\n",
      "    #resGlobal[filecode] = res\n",
      "\n",
      "    # write a csv for each record type\n",
      "    for recordtype,fields in rtFieldInfoThisFile.iteritems():\n",
      "        if not recordtype in res:\n",
      "            print \"No rows found for record type {0!s} in file {1!s} despite DCF specification\".format(\n",
      "                recordtype, filecode)\n",
      "            continue\n",
      "        fieldHeader = [i['Name'] for i in fields]\n",
      "        fieldRecords = set([i['RecordName'] for i in fields])\n",
      "        assert len(fieldRecords) == 1\n",
      "        recName = fieldRecords.pop()\n",
      "        outFN = os.path.join(outputCSVTableDir, '{0!s}.{1!s}.csv'.format(filecode,recName))\n",
      "        with open(outFN, 'wb') as outcsv:\n",
      "            csvwriter = csv.writer(outcsv)\n",
      "            csvwriter.writerow(fieldHeader)\n",
      "            csvwriter.writerows(res[recordtype])\n",
      "\n",
      "#for filecode, fileres in resGlobal.iteritems():\n",
      "#    for recordtype,fields in rtFieldInfoAllFiles.iteritems():\n",
      "#        allFieldsThisRecordSorted = sorted(fields, key=(itemgetter('Start')))\n",
      "#        groupFieldHeader = [i['Name'] for i in allFieldsThisRecordSorted]\n",
      "#        fieldRecords = set([i['RecordName'] for i in fields])\n",
      "#        assert len(fieldRecords) == 1\n",
      "#        recName = fieldRecords.pop()\n",
      "\n",
      "#        outGroupFN = r'C:\\Users\\zool1301\\Documents\\DHS\\Phase6\\ExtractedSurveyRecords_Python\\Grouped\\{0!s}_All.csv'.format(recName)\n",
      "#        if not os.path.exists(outGroupFN):\n",
      "#            with open(outGroupFN,'wb') as outcsv:\n",
      "#                csvwriter = csv.writer(outcsv)\n",
      "#                groupFieldHeader.insert(0,'FileCode')\n",
      "#                groupFieldHeader = [i.lower() for i in groupFieldHeader]\n",
      "#                csvwriter.writerow(groupFieldHeader)\n",
      "#                colsPerRecType[recordtype]=len(groupFieldHeader)\n",
      "#                #print fieldHeader\n",
      "\n",
      "#        [i.insert(0,filecode) for i in fileres[recordtype]]\n",
      "#        with open(outGroupFN,'ab') as outcsv:\n",
      "#            csvwriter = csv.writer(outcsv)\n",
      "#            resThisFileThisRecord = fileres[recordtype]\n",
      "#            allSameLength = True\n",
      "#            for i in resThisFileThisRecord:\n",
      "#                if len(i) != groupFieldHeader\n",
      "#                allSameLength = False\n",
      "#                break\n",
      "#            if allSameLength:\n",
      "#                csvwriter.writerows(resThisFileThisRecord)\n",
      "#            else:\n",
      "#                for i in res\n",
      "            \n",
      "#            if len(res[recordtype][0]) != colsPerRecType[recordtype]:\n",
      "#                print (\"Warning! File {0!s} record type {1!s} has more cols than were defined in an earlier file\"\n",
      "#                       .format(filecode, recordtype))\n",
      "            \n"
     ],
     "language": "python",
     "metadata": {},
     "outputs": []
    }
   ],
   "metadata": {}
  }
 ]
}