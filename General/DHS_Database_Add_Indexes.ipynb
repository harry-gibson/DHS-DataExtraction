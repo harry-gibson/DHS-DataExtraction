{
 "metadata": {
  "name": "",
  "signature": "sha256:db2201b058d4866510c389624a44b1a85bb86730c9b2ce3a5a056eaac21037d3"
 },
 "nbformat": 3,
 "nbformat_minor": 0,
 "worksheets": [
  {
   "cells": [
    {
     "cell_type": "heading",
     "level": 3,
     "metadata": {},
     "source": [
      "Simple script to go through all the REC* tables in the DHS database and add indexes to all the key columns "
     ]
    },
    {
     "cell_type": "code",
     "collapsed": false,
     "input": [
      "import sqlite3"
     ],
     "language": "python",
     "metadata": {},
     "outputs": []
    },
    {
     "cell_type": "code",
     "collapsed": false,
     "input": [
      "dbconn = sqlite3.connect(r'C:\\Users\\zool1301\\Documents\\DHS\\DataExtraction\\General\\All_DHS_Spatialite.db')\n",
      "dbconn.text_factory=bytes\n",
      "crs = dbconn.cursor()"
     ],
     "language": "python",
     "metadata": {},
     "outputs": []
    },
    {
     "cell_type": "code",
     "collapsed": false,
     "input": [
      "crs.execute(\"SELECT name FROM sqlite_master where name like 'REC%' UNION SELECT name FROM sqlite_temp_master where name like 'REC%'; \")"
     ],
     "language": "python",
     "metadata": {},
     "outputs": []
    },
    {
     "cell_type": "code",
     "collapsed": false,
     "input": [
      "crs.description"
     ],
     "language": "python",
     "metadata": {},
     "outputs": []
    },
    {
     "cell_type": "code",
     "collapsed": false,
     "input": [
      "tblNames = [row[0] for row in crs]\n"
     ],
     "language": "python",
     "metadata": {},
     "outputs": []
    },
    {
     "cell_type": "heading",
     "level": 6,
     "metadata": {},
     "source": [
      "Identifying the index columns is based on knowledge of the content of the database: they all have \"id\" in the names, in lowercase"
     ]
    },
    {
     "cell_type": "code",
     "collapsed": false,
     "input": [
      "runIt = 0\n",
      "allUpper = 1"
     ],
     "language": "python",
     "metadata": {},
     "outputs": []
    },
    {
     "cell_type": "code",
     "collapsed": false,
     "input": [
      "cleanSQLTemplate = \"DROP INDEX IF EXISTS {0};\"\n",
      "idxSQLTemplate = \"CREATE INDEX {0} ON {1}({2});\"\n",
      "idxNameTemplate = \"{0}_{1}\"\n",
      "allSQL = []\n",
      "# Create an index for each column with \"id\" in the title, and if there \n",
      "# is more than one (e.g. caseid, bidx) then also create a composite index\n",
      "for tblName in tblNames:\n",
      "    print tblName\n",
      "    crs.execute(\"SELECT * FROM {0} LIMIT 1\".format(tblName))\n",
      "    \n",
      "    if allUpper:\n",
      "        tblName = str.upper(tblName)\n",
      "    # note the lowercase will exclude the OGC_FID column which is already indexed\n",
      "    idxfields = [c[0] for c in crs.description if c[0].find(\"id\") != -1]\n",
      "    \n",
      "    # create a separate index on each joining column\n",
      "    dropidxStmts = [cleanSQLTemplate.format(idxNameTemplate.format(c, str.lower(tblName)))\n",
      "                    for c in idxfields]\n",
      "    idxStmts = [idxSQLTemplate.format(idxNameTemplate.format(c, str.lower(tblName)),\n",
      "                                      'dhs_data_tables.\"'+tblName+'\"', c) for c in idxfields]\n",
      "    \n",
      "    # also create a covering index on all joining columns\n",
      "    if len(idxfields)>1:\n",
      "        dropAllStmt = cleanSQLTemplate.format(idxNameTemplate.format(\"ALLIDX\", str.lower(tblName)))\n",
      "        dropidxStmts.append(dropAllStmt)\n",
      "        allStmt = idxSQLTemplate.format(idxNameTemplate.format(\"ALLIDX\", str.lower(tblName)),\n",
      "                                        'dhs_data_tables.\"'+tblName+'\"', \",\".join(idxfields))\n",
      "        idxStmts.append(allStmt)\n",
      "    \n",
      "    # also create a covering index on the first two joining columns if there are three or more\n",
      "    # e.g. surveyid and caseid but not bidx (the cols are in the appropriate order in the CSVs)\n",
      "    if len(idxfields)>2:\n",
      "        dropAllStmt = cleanSQLTemplate.format(idxNameTemplate.format(\"TWOIDX\", str.lower(tblName)))\n",
      "        dropidxStmts.append(dropAllStmt)\n",
      "        allStmt = idxSQLTemplate.format(idxNameTemplate.format(\"TWOIDX\", str.lower(tblName)),\n",
      "                                        'dhs_data_tables.\"'+tblName+'\"', \",\".join(idxfields[:-1]))\n",
      "        idxStmts.append(allStmt)\n",
      "    \n",
      "    dropIndexSQL = \"\\n\".join(dropidxStmts)\n",
      "    indexSQL = \"\\n\".join(idxStmts)\n",
      "    print idxfields\n",
      "    if runIt:\n",
      "        crs.executescript(dropIndexSQL)\n",
      "        crs.executescript(indexSQL)\n",
      "    allSQL.append(dropIndexSQL)\n",
      "    allSQL.append(indexSQL)\n",
      "if runIt:\n",
      "    dbconn.commit()\n",
      "    dbconn.close()"
     ],
     "language": "python",
     "metadata": {},
     "outputs": []
    },
    {
     "cell_type": "code",
     "collapsed": false,
     "input": [
      "# NB there is another way of getting a list of table columns, i.e.:\n",
      "crs.execute(\"PRAGMA table_info([rec01])\")"
     ],
     "language": "python",
     "metadata": {},
     "outputs": []
    },
    {
     "cell_type": "code",
     "collapsed": false,
     "input": [
      "print \"\\n\".join(allSQL)"
     ],
     "language": "python",
     "metadata": {},
     "outputs": []
    },
    {
     "cell_type": "code",
     "collapsed": false,
     "input": [],
     "language": "python",
     "metadata": {},
     "outputs": []
    }
   ],
   "metadata": {}
  }
 ]
}