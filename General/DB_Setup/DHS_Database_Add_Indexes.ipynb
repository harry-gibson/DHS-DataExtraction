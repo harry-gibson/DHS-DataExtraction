{
 "metadata": {
  "name": "",
  "signature": "sha256:150819c5fe28fc171ce6ba1c31a8b0e9b9711d9d327079eab2bad5325bafdf72"
 },
 "nbformat": 3,
 "nbformat_minor": 0,
 "worksheets": [
  {
   "cells": [
    {
     "cell_type": "heading",
     "level": 3,
     "metadata": {},
     "source": [
      "Simple script to go through all the REC* tables in the DHS database and add indexes to all the key columns "
     ]
    },
    {
     "cell_type": "code",
     "collapsed": false,
     "input": [
      "import sqlite3"
     ],
     "language": "python",
     "metadata": {},
     "outputs": []
    },
    {
     "cell_type": "code",
     "collapsed": false,
     "input": [
      "dbconn = sqlite3.connect(r'C:\\Users\\zool1301\\Documents\\DHS\\DataExtraction\\General\\All_DHS_Spatialite.db')\n",
      "dbconn.text_factory=bytes\n",
      "crs = dbconn.cursor()"
     ],
     "language": "python",
     "metadata": {},
     "outputs": []
    },
    {
     "cell_type": "code",
     "collapsed": false,
     "input": [
      "crs.execute(\"SELECT name FROM sqlite_master where name like 'REC%' UNION SELECT name FROM sqlite_temp_master where name like 'REC%'; \")"
     ],
     "language": "python",
     "metadata": {},
     "outputs": []
    },
    {
     "cell_type": "code",
     "collapsed": false,
     "input": [
      "crs.description"
     ],
     "language": "python",
     "metadata": {},
     "outputs": []
    },
    {
     "cell_type": "code",
     "collapsed": false,
     "input": [
      "tblNames = [row[0] for row in crs]\n"
     ],
     "language": "python",
     "metadata": {},
     "outputs": []
    },
    {
     "cell_type": "heading",
     "level": 6,
     "metadata": {},
     "source": [
      "Identifying the index columns is based on knowledge of the content of the database: they all have \"id\" in the names, in lowercase"
     ]
    },
    {
     "cell_type": "code",
     "collapsed": false,
     "input": [
      "runIt = 0\n",
      "allUpper = 1"
     ],
     "language": "python",
     "metadata": {},
     "outputs": [],
     "prompt_number": 12
    },
    {
     "cell_type": "code",
     "collapsed": false,
     "input": [
      "cleanSQLTemplate = \"DROP INDEX IF EXISTS dhs_data_tables.{0};\"\n",
      "idxSQLTemplate = \"CREATE INDEX {0} ON {1}({2});\"\n",
      "idxNameTemplate = \"{0}_{1}\"\n",
      "allSQL = []\n",
      "# Create an index for each column with \"id\" in the title, and if there \n",
      "# is more than one (e.g. caseid, bidx) then also create a composite index\n",
      "for tblName in tblNames:\n",
      "    print tblName\n",
      "    crs.execute('SELECT * FROM dhs_data_tables.\"{0}\" LIMIT 1'.format(tblName))\n",
      "    \n",
      "    if allUpper:\n",
      "        tblName = str.upper(tblName)\n",
      "    # note the lowercase will exclude the OGC_FID column which is already indexed\n",
      "    idxfields = [c[0] for c in crs.description if c[0].find(\"id\") != -1]\n",
      "    \n",
      "    # create a separate index on each joining column\n",
      "    dropidxStmts = [cleanSQLTemplate.format(idxNameTemplate.format(c, str.lower(tblName)))\n",
      "                    for c in idxfields]\n",
      "    idxStmts = [idxSQLTemplate.format(idxNameTemplate.format(c, str.lower(tblName)),\n",
      "                                      'dhs_data_tables.\"'+tblName+'\"', c) for c in idxfields]\n",
      "    \n",
      "    # also create a covering index on all joining columns\n",
      "    if len(idxfields)>1:\n",
      "        dropAllStmt = cleanSQLTemplate.format(idxNameTemplate.format(\"ALLIDX\", str.lower(tblName)))\n",
      "        dropidxStmts.append(dropAllStmt)\n",
      "        allStmt = idxSQLTemplate.format(idxNameTemplate.format(\"ALLIDX\", str.lower(tblName)),\n",
      "                                        'dhs_data_tables.\"'+tblName+'\"', \",\".join(idxfields))\n",
      "        idxStmts.append(allStmt)\n",
      "    \n",
      "    # also create a covering index on the first two joining columns if there are three or more\n",
      "    # e.g. surveyid and caseid but not bidx (the cols are in the appropriate order in the CSVs)\n",
      "    if len(idxfields)>2:\n",
      "        dropAllStmt = cleanSQLTemplate.format(idxNameTemplate.format(\"TWOIDX\", str.lower(tblName)))\n",
      "        dropidxStmts.append(dropAllStmt)\n",
      "        allStmt = idxSQLTemplate.format(idxNameTemplate.format(\"TWOIDX\", str.lower(tblName)),\n",
      "                                        'dhs_data_tables.\"'+tblName+'\"', \",\".join(idxfields[:-1]))\n",
      "        idxStmts.append(allStmt)\n",
      "    \n",
      "    dropIndexSQL = \"\\n\".join(dropidxStmts)\n",
      "    indexSQL = \"\\n\".join(idxStmts)\n",
      "    print idxfields\n",
      "    if runIt:\n",
      "        crs.executescript(dropIndexSQL)\n",
      "        crs.executescript(indexSQL)\n",
      "    allSQL.append(dropIndexSQL)\n",
      "    allSQL.append(indexSQL)\n",
      "if runIt:\n",
      "    dbconn.commit()\n",
      "    dbconn.close()"
     ],
     "language": "python",
     "metadata": {},
     "outputs": [
      {
       "output_type": "stream",
       "stream": "stdout",
       "text": [
        "REC31\n",
        "['surveyid', 'caseid']\n",
        "REC42\n",
        "['surveyid', 'caseid']\n",
        "REC22\n",
        "['surveyid', 'caseid']\n",
        "OTHREC\n",
        "['surveyid']\n",
        "REC01\n",
        "['surveyid', 'caseid']\n",
        "REC11\n",
        "['surveyid', 'caseid']\n",
        "REC21\n",
        "['surveyid', 'caseid', 'bidx']\n",
        "REC33\n",
        "['surveyid', 'caseid', 'cpidx']\n",
        "REC44\n",
        "['surveyid', 'caseid', 'hwidx']\n",
        "REC51\n",
        "['surveyid', 'caseid']\n",
        "REC61\n",
        "['surveyid', 'caseid']\n",
        "REC71\n",
        "['surveyid', 'caseid']\n",
        "REC75\n",
        "['surveyid', 'caseid']\n",
        "REC80\n",
        "['surveyid', 'caseid']\n",
        "REC82\n",
        "['surveyid', 'caseid']\n",
        "REC83\n",
        "['surveyid', 'caseid', 'mmidx']\n",
        "REC84\n",
        "['surveyid', 'caseid']\n",
        "REC93\n",
        "['surveyid', 'caseid', 'idx93']\n",
        "REC96\n",
        "['surveyid', 'caseid', 'idx96']\n",
        "REC9A\n",
        "['surveyid', 'caseid', 'idx9a']\n",
        "REC9B\n",
        "['surveyid', 'caseid', 's442id']\n",
        "REC9C\n",
        "['surveyid', 'caseid']\n",
        "RECFG\n",
        "['surveyid', 'caseid']\n",
        "RECG2\n",
        "['surveyid', 'caseid', 'gidx']\n",
        "RECGC\n",
        "['surveyid', 'caseid']\n",
        "RECH0\n",
        "['surveyid', 'hhid']\n",
        "RECH1\n",
        "['surveyid', 'hhid', 'hvidx']\n",
        "RECH11\n",
        "['surveyid', 'hhid']\n",
        "RECH2A\n",
        "['surveyid', 'hhid']\n",
        "RECH4A\n",
        "['surveyid', 'hhid', 'idxh4a']\n",
        "RECH5A\n",
        "['surveyid', 'hhid']\n",
        "RECH5CS\n",
        "['surveyid', 'hhid', 'idx5cs']\n",
        "RECH5M\n",
        "['surveyid', 'hhid']\n",
        "RECH5S\n",
        "['surveyid', 'hhid']\n",
        "RECH6\n",
        "['surveyid', 'hhid', 'idxh6']\n",
        "RECH6A\n",
        "['surveyid', 'hhid']\n",
        "RECH6B\n",
        "['surveyid', 'hhid', 'h6bidx']\n",
        "RECH6S\n",
        "['surveyid', 'hhid']\n",
        "RECH7A\n",
        "['surveyid', 'hhid']\n",
        "RECH7B\n",
        "['surveyid', 'hhid']\n",
        "RECH7C\n",
        "['surveyid', 'hhid']\n",
        "RECH8\n",
        "['surveyid', 'hhid', 'idxh8', 'shidx8']"
       ]
      },
      {
       "output_type": "stream",
       "stream": "stdout",
       "text": [
        "\n",
        "RECH9A\n",
        "['surveyid', 'hhid', 'idxh9a']\n",
        "RECHA\n",
        "['surveyid', 'hhid', 'idxha', 'shidxa']\n",
        "RECHAA\n",
        "['surveyid', 'hhid']\n",
        "RECHB\n",
        "['surveyid', 'hhid', 'idxhb', 'shidxb']\n",
        "RECHBB\n",
        "['surveyid', 'hhid']\n",
        "RECHC\n",
        "['surveyid', 'hhid', 'idxhc']\n",
        "RECHCH\n",
        "['surveyid', 'hhid', 'hkidx']\n",
        "RECHCH2\n",
        "['surveyid', 'hhid', 'idxch2']\n",
        "RECHCHL\n",
        "['surveyid', 'hhid', 'idxchl']\n",
        "RECHDI\n",
        "['surveyid', 'hhid']\n",
        "RECHDP\n",
        "['surveyid', 'hhid', 'hdpidx']\n",
        "RECHDP2\n",
        "['surveyid', 'hhid', 'hdpidx2']\n",
        "RECHEL\n",
        "['surveyid', 'hhid', 'heidx']\n",
        "RECHG1\n",
        "['surveyid', 'hhid']\n",
        "RECHGS1\n",
        "['surveyid', 'hhid']\n",
        "RECHI\n",
        "['surveyid', 'hhid']\n",
        "RECHII\n",
        "['surveyid', 'hhid']\n",
        "RECHIL\n",
        "['surveyid', 'hhid']\n",
        "RECHLB\n",
        "['surveyid', 'hhid']\n",
        "RECHM1\n",
        "['surveyid', 'hhid']\n",
        "RECHM2\n",
        "['surveyid', 'hhid']\n",
        "RECHM3\n",
        "['surveyid', 'hhid']\n",
        "RECHMA\n",
        "['surveyid', 'hhid']\n",
        "RECHMC\n",
        "['surveyid', 'hhid', 'idxhmc', 'idxhml']\n",
        "RECHMCS\n",
        "['surveyid', 'hhid', 'hmcsidx', 'idxmcs']\n",
        "RECHMG\n",
        "['surveyid', 'hhid']\n",
        "RECHMH\n",
        "['surveyid', 'hhid', 'hmhidx']\n",
        "REC43\n",
        "['surveyid', 'caseid', 'hidx']\n",
        "RECH2\n",
        "['surveyid', 'hhid']\n",
        "REC81\n",
        "['surveyid', 'caseid']\n",
        "RECHPC\n",
        "['surveyid', 'hhid', 'hpcidx']\n",
        "RECHS\n",
        "['surveyid', 'hhid', 'idxhs']\n",
        "RECDV\n",
        "['surveyid', 'caseid']\n",
        "RECH10\n",
        "['surveyid', 'hhid']\n",
        "RECH7D\n",
        "['surveyid', 'hhid']\n",
        "RECHCD\n",
        "['surveyid', 'hhid']\n",
        "RECG1\n",
        "['surveyid', 'caseid']\n",
        "RECHMH2\n",
        "['surveyid', 'hhid', 'hmhidx2']\n",
        "RECHML2\n",
        "['surveyid', 'hhid', 'hmlidx2', 'hm2idx']\n",
        "HIVREC\n",
        "['surveyid']\n",
        "RECHMLS\n",
        "['surveyid', 'hhid', 'shmlidx']\n",
        "RECHMS\n",
        "['surveyid', 'hhid', 'shmlidx2']\n",
        "RECHMT\n",
        "['surveyid', 'hhid']\n",
        "RECHMW\n",
        "['surveyid', 'hhid', 'idxhmw']\n",
        "RECHOV\n",
        "['surveyid', 'hhid', 'hovidx']\n",
        "RECHSA\n",
        "['surveyid', 'hhid']\n",
        "RECHSK\n",
        "['surveyid', 'hhid', 'hskidx']"
       ]
      },
      {
       "output_type": "stream",
       "stream": "stdout",
       "text": [
        "\n",
        "RECHW\n",
        "['surveyid', 'hhid']\n",
        "RECHYT\n",
        "['surveyid', 'hhid', 'hyidx']\n",
        "RECML\n",
        "['surveyid', 'caseid', 'idxml']\n",
        "REC92\n",
        "['surveyid', 'caseid', 'idx92', 'sbidx', 'bidx92', 'idxbh']\n",
        "RECHML\n",
        "['surveyid', 'hhid', 'hmlidx']\n",
        "REC41\n",
        "['surveyid', 'caseid', 'midx']\n",
        "RECWS\n",
        "['surveyid', 'caseid']\n",
        "REC32\n",
        "['surveyid', 'caseid']\n",
        "REC85\n",
        "['surveyid', 'caseid']\n",
        "RECH5\n",
        "['surveyid', 'hhid', 'idxh5']\n",
        "REC99\n",
        "['surveyid', 'caseid', 'midx99', 'idx99', 'bidx99']\n",
        "RECH7\n",
        "['surveyid', 'hhid', 'hmlidx', 'idxh7', 'shidxb']\n",
        "RECH9\n",
        "['surveyid', 'hhid', 'idxh9', 'shidx9']\n",
        "RECHG2\n",
        "['surveyid', 'hhid']\n"
       ]
      }
     ],
     "prompt_number": 17
    },
    {
     "cell_type": "code",
     "collapsed": false,
     "input": [
      "conn.reset()"
     ],
     "language": "python",
     "metadata": {},
     "outputs": [],
     "prompt_number": 16
    },
    {
     "cell_type": "code",
     "collapsed": false,
     "input": [
      "# NB there is another way of getting a list of table columns, i.e.:\n",
      "crs.execute(\"PRAGMA table_info([rec01])\")"
     ],
     "language": "python",
     "metadata": {},
     "outputs": []
    },
    {
     "cell_type": "code",
     "collapsed": false,
     "input": [
      "print \"\\n\".join(allSQL)"
     ],
     "language": "python",
     "metadata": {},
     "outputs": []
    },
    {
     "cell_type": "code",
     "collapsed": false,
     "input": [
      "import psycopg2\n"
     ],
     "language": "python",
     "metadata": {},
     "outputs": [],
     "prompt_number": 1
    },
    {
     "cell_type": "code",
     "collapsed": false,
     "input": [
      "conn_string = \"host='map-fs1.ndph.ox.ac.uk' port='5433' dbname='dhs_data_pit' \\\n",
      "    user='admin' password='VeXJlzPUz8NLGEsovU4c'\""
     ],
     "language": "python",
     "metadata": {},
     "outputs": [],
     "prompt_number": 4
    },
    {
     "cell_type": "code",
     "collapsed": false,
     "input": [
      "conn = psycopg2.connect(conn_string)"
     ],
     "language": "python",
     "metadata": {},
     "outputs": [],
     "prompt_number": 5
    },
    {
     "cell_type": "code",
     "collapsed": false,
     "input": [
      "crs = conn.cursor()"
     ],
     "language": "python",
     "metadata": {},
     "outputs": [],
     "prompt_number": 6
    },
    {
     "cell_type": "code",
     "collapsed": false,
     "input": [
      "crs.execute(\"select relname from pg_class where relkind='r' and relname ~ 'REC';\")"
     ],
     "language": "python",
     "metadata": {},
     "outputs": [],
     "prompt_number": 7
    },
    {
     "cell_type": "code",
     "collapsed": false,
     "input": [
      "tblNames = [i[0] for i in crs.fetchall()]"
     ],
     "language": "python",
     "metadata": {},
     "outputs": [],
     "prompt_number": 8
    },
    {
     "cell_type": "code",
     "collapsed": false,
     "input": [
      "crs.execute(\"select relname from pg_class where relkind='i'\")"
     ],
     "language": "python",
     "metadata": {},
     "outputs": [],
     "prompt_number": 9
    },
    {
     "cell_type": "code",
     "collapsed": false,
     "input": [
      "idxNames = [i[0] for i in crs.fetchall()]"
     ],
     "language": "python",
     "metadata": {},
     "outputs": [],
     "prompt_number": 10
    },
    {
     "cell_type": "code",
     "collapsed": false,
     "input": [
      "idxNames"
     ],
     "language": "python",
     "metadata": {},
     "outputs": [
      {
       "metadata": {},
       "output_type": "pyout",
       "prompt_number": 11,
       "text": [
        "['caseid_rec21',\n",
        " 'twoidx_rec21',\n",
        " 'caseid_rec80',\n",
        " 'caseid_rec81',\n",
        " 'caseid_rec82',\n",
        " 'caseid_rec83',\n",
        " 'caseid_rec84',\n",
        " 'caseid_rec93',\n",
        " 'caseid_rec9b',\n",
        " 'caseid_rec9c',\n",
        " 'caseid_recfg',\n",
        " 'caseid_recg2',\n",
        " 'caseid_recg1',\n",
        " 'pg_database_datname_index',\n",
        " 'pg_database_oid_index',\n",
        " 'caseid_recgc',\n",
        " 'hhid_rech0',\n",
        " 'hhid_rech1',\n",
        " 'hhid_rech10',\n",
        " 'hhid_rech11',\n",
        " 'h6bidx_rech6b',\n",
        " 'hdpidx_rechdp',\n",
        " 'hdpidx2_rechdp2',\n",
        " 'heidx_rechel',\n",
        " 'caseid_recml',\n",
        " 'pg_toast_17755_index',\n",
        " 'pg_auth_members_role_member_index',\n",
        " 'pg_auth_members_member_role_index',\n",
        " 'pg_toast_2396_index',\n",
        " 'pg_toast_3596_index',\n",
        " 'pg_collation_oid_index',\n",
        " 'pg_collation_name_enc_nsp_index',\n",
        " 'pg_toast_2619_index',\n",
        " 'pg_attribute_relid_attnam_index',\n",
        " 'pg_attribute_relid_attnum_index',\n",
        " 'pg_authid_rolname_index',\n",
        " 'pg_authid_oid_index',\n",
        " 'pg_toast_1255_index',\n",
        " 'pg_attrdef_adrelid_adnum_index',\n",
        " 'pg_attrdef_oid_index',\n",
        " 'pg_toast_2606_index',\n",
        " 'pg_constraint_conname_nsp_index',\n",
        " 'pg_constraint_conrelid_index',\n",
        " 'pg_am_name_index',\n",
        " 'pg_am_oid_index',\n",
        " 'pg_amop_fam_strat_index',\n",
        " 'pg_amop_opr_fam_index',\n",
        " 'pg_amop_oid_index',\n",
        " 'pg_amproc_fam_proc_index',\n",
        " 'pg_amproc_oid_index',\n",
        " 'pg_aggregate_fnoid_index',\n",
        " 'pg_toast_2618_index',\n",
        " 'pg_toast_2620_index',\n",
        " 'pg_toast_2609_index',\n",
        " 'pg_cast_oid_index',\n",
        " 'pg_cast_source_target_index',\n",
        " 'pg_toast_2964_index',\n",
        " 'pg_toast_3592_index',\n",
        " 'cpidx_rec33',\n",
        " 'pg_pltemplate_name_index',\n",
        " 'pg_shdepend_depender_index',\n",
        " 'pg_shdepend_reference_index',\n",
        " 'pg_shdescription_o_c_index',\n",
        " 'pg_ts_config_cfgname_index',\n",
        " 'pg_ts_config_oid_index',\n",
        " 'pg_statistic_relid_att_inh_index',\n",
        " 'pg_largeobject_loid_pn_index',\n",
        " 'pg_proc_oid_index',\n",
        " 'pg_proc_proname_args_nsp_index',\n",
        " 'pg_index_indrelid_index',\n",
        " 'pg_index_indexrelid_index',\n",
        " 'pg_operator_oid_index',\n",
        " 'pg_operator_oprname_l_r_n_index',\n",
        " 'pg_opfamily_am_name_nsp_index',\n",
        " 'pg_opfamily_oid_index',\n",
        " 'pg_opclass_am_name_nsp_index',\n",
        " 'pg_opclass_oid_index',\n",
        " 'pg_language_name_index',\n",
        " 'pg_language_oid_index',\n",
        " 'pg_largeobject_metadata_oid_index',\n",
        " 'pg_rewrite_oid_index',\n",
        " 'pg_rewrite_rel_rulename_index',\n",
        " 'pg_trigger_tgconstraint_index',\n",
        " 'pg_trigger_tgrelid_tgname_index',\n",
        " 'pg_event_trigger_evtname_index',\n",
        " 'pg_event_trigger_oid_index',\n",
        " 'pg_description_o_c_o_index',\n",
        " 'pg_enum_oid_index',\n",
        " 'pg_enum_typid_label_index',\n",
        " 'pg_namespace_nspname_index',\n",
        " 'pg_namespace_oid_index',\n",
        " 'pg_conversion_default_index',\n",
        " 'pg_conversion_name_nsp_index',\n",
        " 'pg_depend_depender_index',\n",
        " 'pg_depend_reference_index',\n",
        " 'pg_tablespace_oid_index',\n",
        " 'pg_tablespace_spcname_index',\n",
        " 'pg_ts_config_map_index',\n",
        " 'pg_ts_dict_dictname_index',\n",
        " 'pg_transform_oid_index',\n",
        " 'pg_transform_type_lang_index',\n",
        " 'pg_toast_17797_index',\n",
        " 'pg_toast_17824_index',\n",
        " 'pg_ts_dict_oid_index',\n",
        " 'pg_default_acl_role_nsp_obj_index',\n",
        " 'pg_default_acl_oid_index',\n",
        " 'pg_range_rngtypid_index',\n",
        " 'pg_user_mapping_oid_index',\n",
        " 'pg_type_oid_index',\n",
        " 'pg_user_mapping_user_server_index',\n",
        " 'pg_db_role_setting_databaseid_rol_index',\n",
        " 'pg_ts_parser_prsname_index',\n",
        " 'pg_foreign_server_oid_index',\n",
        " 'pg_foreign_server_name_index',\n",
        " 'pg_foreign_table_relid_index',\n",
        " 'pg_policy_oid_index',\n",
        " 'pg_policy_polrelid_polname_index',\n",
        " 'pg_replication_origin_roiident_index',\n",
        " 'pg_replication_origin_roname_index',\n",
        " 'pg_seclabel_object_index',\n",
        " 'pg_shseclabel_object_index',\n",
        " 'pg_extension_oid_index',\n",
        " 'pg_extension_name_index',\n",
        " 'pg_foreign_data_wrapper_oid_index',\n",
        " 'pg_foreign_data_wrapper_name_index',\n",
        " 'hwidx_rec44',\n",
        " 'pg_toast_225268083_index',\n",
        " 'hhid_rech2a',\n",
        " 'allidx_rec22',\n",
        " 'allidx_rec01',\n",
        " 'allidx_rec11',\n",
        " 'allidx_rec31',\n",
        " 'allidx_rec33',\n",
        " 'allidx_rec44',\n",
        " 'allidx_rec51',\n",
        " 'allidx_rec61',\n",
        " 'allidx_rec71',\n",
        " 'allidx_rec80',\n",
        " 'allidx_rec81',\n",
        " 'allidx_rec82',\n",
        " 'allidx_rec83',\n",
        " 'allidx_rec84',\n",
        " 'allidx_rec93',\n",
        " 'allidx_rec9b',\n",
        " 'allidx_rec9c',\n",
        " 'allidx_recfg',\n",
        " 'allidx_recg2',\n",
        " 'allidx_recgc',\n",
        " 'allidx_recg1',\n",
        " 'pg_toast_12254_index',\n",
        " 'allidx_rec21',\n",
        " 'allidx_rech0',\n",
        " 'allidx_rech1',\n",
        " 'allidx_rech10',\n",
        " 'allidx_rech11',\n",
        " 'allidx_rech2a',\n",
        " 'allidx_rech4a',\n",
        " 'allidx_rech5a',\n",
        " 'allidx_rech5cs',\n",
        " 'allidx_rech5m',\n",
        " 'allidx_rech5s',\n",
        " 'allidx_rech6a',\n",
        " 'allidx_rech6b',\n",
        " 'allidx_rech6s',\n",
        " 'allidx_rech7a',\n",
        " 'allidx_rech7b',\n",
        " 'pg_toast_12269_index',\n",
        " 'allidx_rech7c',\n",
        " 'allidx_rech7d',\n",
        " 'allidx_rech9a',\n",
        " 'allidx_recha',\n",
        " 'allidx_rechaa',\n",
        " 'allidx_rechb',\n",
        " 'allidx_rechbb',\n",
        " 'allidx_rechc',\n",
        " 'allidx_rechcd',\n",
        " 'allidx_rechch',\n",
        " 'allidx_rechch2',\n",
        " 'allidx_rechdi',\n",
        " 'allidx_rechdp',\n",
        " 'allidx_rechdp2',\n",
        " 'allidx_rechel',\n",
        " 'allidx_rechg1',\n",
        " 'allidx_rechgs1',\n",
        " 'allidx_rechi',\n",
        " 'allidx_rechii',\n",
        " 'allidx_rechil',\n",
        " 'allidx_rechlb',\n",
        " 'allidx_rechm1',\n",
        " 'allidx_rechm2',\n",
        " 'allidx_rechm3',\n",
        " 'allidx_rechma',\n",
        " 'allidx_rechmc',\n",
        " 'allidx_rechmcs',\n",
        " 'allidx_rechmg',\n",
        " 'allidx_rechmh',\n",
        " 'bidx_rec21',\n",
        " 'caseid_rec22',\n",
        " 'caseid_rec11',\n",
        " 'caseid_rec31',\n",
        " 'caseid_rec33',\n",
        " 'caseid_rec44',\n",
        " 'caseid_rec51',\n",
        " 'caseid_rec61',\n",
        " 'caseid_rec71',\n",
        " 'hhid_rech4a',\n",
        " 'hhid_rech5a',\n",
        " 'hhid_rech5cs',\n",
        " 'hhid_rech5m',\n",
        " 'hhid_rech5s',\n",
        " 'hhid_rech6a',\n",
        " 'hhid_rech6b',\n",
        " 'hhid_rech6s',\n",
        " 'hhid_rech7a',\n",
        " 'hhid_rech7b',\n",
        " 'hhid_rech7c',\n",
        " 'hhid_rech7d',\n",
        " 'hhid_rech9a',\n",
        " 'hhid_recha',\n",
        " 'hhid_rechaa',\n",
        " 'hhid_rechb',\n",
        " 'hhid_rechbb',\n",
        " 'hhid_rechc',\n",
        " 'hhid_rechcd',\n",
        " 'hhid_rechch',\n",
        " 'hhid_rechch2',\n",
        " 'hhid_rechchl',\n",
        " 'hhid_rechdi',\n",
        " 'allidx_rechs',\n",
        " 'idx93_rec93',\n",
        " 'hvidx_rech1',\n",
        " 'idxh4a_rech4a',\n",
        " 'idx5cs_rech5cs',\n",
        " 'hkidx_rechch',\n",
        " 'idxch2_rechch2',\n",
        " 'idxchl_rechchl',\n",
        " 'hhid_rechdp',\n",
        " 'hhid_rechdp2',\n",
        " 'hhid_rechel',\n",
        " 'hhid_rechg1',\n",
        " 'hhid_rechgs1',\n",
        " 'hhid_rechi',\n",
        " 'hhid_rechii',\n",
        " 'hhid_rechil',\n",
        " 'hhid_rechlb',\n",
        " 'hhid_rechm1',\n",
        " 'hhid_rechm2',\n",
        " 'hhid_rechm3',\n",
        " 'hhid_rechma',\n",
        " 'hhid_rechmc',\n",
        " 'hhid_rechmg',\n",
        " 'hhid_rechmh',\n",
        " 'hmhidx_rechmh',\n",
        " 'surveyid_rec21',\n",
        " 'surveyid_rec22',\n",
        " 'surveyid_othrec',\n",
        " 'surveyid_rec01',\n",
        " 'surveyid_rec11',\n",
        " 'surveyid_rec31',\n",
        " 'surveyid_rec33',\n",
        " 'surveyid_rec44',\n",
        " 'surveyid_rec51',\n",
        " 'surveyid_rec61',\n",
        " 'surveyid_rec71',\n",
        " 'surveyid_rec80',\n",
        " 'surveyid_rec81',\n",
        " 'surveyid_rec82',\n",
        " 'mmidx_rec83',\n",
        " 'surveyid_rec84',\n",
        " 'surveyid_rec93',\n",
        " 's442id_rec9b',\n",
        " 'surveyid_rec9b',\n",
        " 'surveyid_rec9c',\n",
        " 'surveyid_recfg',\n",
        " 'surveyid_recg2',\n",
        " 'surveyid_recgc',\n",
        " 'surveyid_rech0',\n",
        " 'surveyid_rech1',\n",
        " 'surveyid_rech10',\n",
        " 'surveyid_rech11',\n",
        " 'surveyid_rech2a',\n",
        " 'surveyid_rech4a',\n",
        " 'surveyid_rech5a',\n",
        " 'surveyid_rech5cs',\n",
        " 'idxh9a_rech9a',\n",
        " 'idxha_recha',\n",
        " 'idxhb_rechb',\n",
        " 'shidxb_rechb',\n",
        " 'idxhc_rechc',\n",
        " 'idxhmc_rechmc',\n",
        " 'idxhml_rechmc',\n",
        " 'idxmcs_rechmcs',\n",
        " 'shmlidx_rechmls',\n",
        " 'shmlidx2_rechms',\n",
        " 'surveyid_rech5s',\n",
        " 'surveyid_rech6a',\n",
        " 'surveyid_rech6b',\n",
        " 'surveyid_rech6s',\n",
        " 'surveyid_rech7a',\n",
        " 'surveyid_rech7b',\n",
        " 'surveyid_rech7c',\n",
        " 'surveyid_rech7d',\n",
        " 'surveyid_rech9a',\n",
        " 'surveyid_recha',\n",
        " 'surveyid_rechaa',\n",
        " 'surveyid_rechb',\n",
        " 'surveyid_rechbb',\n",
        " 'surveyid_rechc',\n",
        " 'surveyid_rechcd',\n",
        " 'surveyid_rechch',\n",
        " 'surveyid_rechch2',\n",
        " 'surveyid_rechchl',\n",
        " 'surveyid_rechdi',\n",
        " 'surveyid_rechdp',\n",
        " 'surveyid_rechdp2',\n",
        " 'surveyid_rechg1',\n",
        " 'surveyid_rechgs1',\n",
        " 'surveyid_rechi',\n",
        " 'surveyid_rechii',\n",
        " 'surveyid_rechil',\n",
        " 'surveyid_rechlb',\n",
        " 'surveyid_rechm1',\n",
        " 'surveyid_rechm2',\n",
        " 'surveyid_rechm3',\n",
        " 'surveyid_rechma',\n",
        " 'surveyid_rechmc',\n",
        " 'surveyid_rechmcs',\n",
        " 'surveyid_rechmg',\n",
        " 'surveyid_rechmh',\n",
        " 'twoidx_rec33',\n",
        " 'twoidx_rec44',\n",
        " 'twoidx_rec83',\n",
        " 'twoidx_rec93',\n",
        " 'twoidx_rec9b',\n",
        " 'twoidx_recg2',\n",
        " 'twoidx_rech1',\n",
        " 'twoidx_rech4a',\n",
        " 'twoidx_rech5cs',\n",
        " 'twoidx_rech6b',\n",
        " 'twoidx_rech9a',\n",
        " 'twoidx_recha',\n",
        " 'twoidx_rechb',\n",
        " 'twoidx_rechc',\n",
        " 'twoidx_rechch',\n",
        " 'twoidx_rechch2',\n",
        " 'twoidx_rechchl',\n",
        " 'twoidx_rechdp',\n",
        " 'twoidx_rechdp2',\n",
        " 'twoidx_rechel',\n",
        " 'twoidx_rechmc',\n",
        " 'twoidx_rechmcs',\n",
        " 'twoidx_rechmh',\n",
        " 'twoidx_rechmh2',\n",
        " 'surveyid_rec83',\n",
        " 'dhs_locs_pkey',\n",
        " 'dhs_cluster_locs_geom_1466434976616',\n",
        " 'dhs_locs_idx',\n",
        " 'pg_toast_16679_index',\n",
        " 'spatial_ref_sys_pkey',\n",
        " 'pg_toast_225333680_index',\n",
        " 'surveyid_recg1',\n",
        " 'pg_toast_2604_index',\n",
        " 'pg_constraint_contypid_index',\n",
        " 'pg_constraint_oid_index',\n",
        " 'pg_inherits_parent_index',\n",
        " 'pg_inherits_relid_seqno_index',\n",
        " 'pg_trigger_oid_index',\n",
        " 'pg_conversion_oid_index',\n",
        " 'pg_ts_parser_oid_index',\n",
        " 'caseid_rec01',\n",
        " 'gidx_recg2',\n",
        " 'surveyid_rech5m',\n",
        " 'pg_toast_17902_index',\n",
        " 'shidxa_recha',\n",
        " 'allidx_rechchl',\n",
        " 'pg_type_typname_nsp_index',\n",
        " 'surveyid_rechel',\n",
        " 'hhid_rechmcs',\n",
        " 'hmcsidx_rechmcs',\n",
        " 'allidx_rechmh2',\n",
        " 'hhid_rechmh2',\n",
        " 'hmhidx2_rechmh2',\n",
        " 'surveyid_rechmh2',\n",
        " 'allidx_rechml2',\n",
        " 'hhid_rechml2',\n",
        " 'hm2idx_rechml2',\n",
        " 'hmlidx2_rechml2',\n",
        " 'surveyid_rechml2',\n",
        " 'pg_enum_typid_sortorder_index',\n",
        " 'pg_toast_12249_index',\n",
        " 'surveyid_hivrec',\n",
        " 'pg_toast_12264_index',\n",
        " 'pg_toast_12274_index',\n",
        " 'twoidx_rechml2',\n",
        " 'allidx_rechmls',\n",
        " 'hhid_rechmls',\n",
        " 'surveyid_rechmls',\n",
        " 'twoidx_rechmls',\n",
        " 'allidx_rechms',\n",
        " 'hhid_rechms',\n",
        " 'surveyid_rechms',\n",
        " 'twoidx_rechms',\n",
        " 'allidx_rechmt',\n",
        " 'hhid_rechmt',\n",
        " 'surveyid_rechmt',\n",
        " 'allidx_rechmw',\n",
        " 'hhid_rechmw',\n",
        " 'idxhmw_rechmw',\n",
        " 'surveyid_rechmw',\n",
        " 'twoidx_rechmw',\n",
        " 'allidx_rechov',\n",
        " 'hhid_rechov',\n",
        " 'hovidx_rechov',\n",
        " 'surveyid_rechov',\n",
        " 'twoidx_rechov',\n",
        " 'allidx_rechpc',\n",
        " 'hhid_rechpc',\n",
        " 'hpcidx_rechpc',\n",
        " 'surveyid_rechpc',\n",
        " 'twoidx_rechpc',\n",
        " 'hhid_rechs',\n",
        " 'idxhs_rechs',\n",
        " 'surveyid_rechs',\n",
        " 'twoidx_rechs',\n",
        " 'allidx_rechsa',\n",
        " 'hhid_rechsa',\n",
        " 'surveyid_rechsa',\n",
        " 'allidx_rechsk',\n",
        " 'hhid_rechsk',\n",
        " 'hskidx_rechsk',\n",
        " 'surveyid_rechsk',\n",
        " 'twoidx_rechsk',\n",
        " 'allidx_rechw',\n",
        " 'hhid_rechw',\n",
        " 'surveyid_rechw',\n",
        " 'allidx_rechyt',\n",
        " 'hhid_rechyt',\n",
        " 'hyidx_rechyt',\n",
        " 'surveyid_rechyt',\n",
        " 'twoidx_rechyt',\n",
        " 'allidx_recml',\n",
        " 'idxml_recml',\n",
        " 'surveyid_recml',\n",
        " 'twoidx_recml',\n",
        " 'pg_class_oid_index',\n",
        " 'pg_class_relname_nsp_index',\n",
        " 'pg_class_tblspc_relfilenode_index',\n",
        " 'pg_toast_225348682_index',\n",
        " 'pg_ts_template_tmplname_index',\n",
        " 'pg_ts_template_oid_index',\n",
        " 'pg_toast_225384660_index',\n",
        " 'pg_toast_12259_index',\n",
        " 'pg_toast_12244_index',\n",
        " 'pg_toast_225509792_index',\n",
        " 'pg_toast_225530150_index',\n",
        " 'pg_toast_226386089_index',\n",
        " 'pg_toast_228103488_index',\n",
        " 'pg_toast_234114225_index']"
       ]
      }
     ],
     "prompt_number": 11
    },
    {
     "cell_type": "code",
     "collapsed": false,
     "input": [
      "for l in allSQL:\n",
      "    print l\n",
      "    crs.execute(l)\n",
      "conn.commit()"
     ],
     "language": "python",
     "metadata": {},
     "outputs": [
      {
       "output_type": "stream",
       "stream": "stdout",
       "text": [
        "DROP INDEX IF EXISTS dhs_data_tables.surveyid_rec31;\n",
        "DROP INDEX IF EXISTS dhs_data_tables.caseid_rec31;\n",
        "DROP INDEX IF EXISTS dhs_data_tables.ALLIDX_rec31;\n",
        "CREATE INDEX surveyid_rec31 ON dhs_data_tables.\"REC31\"(surveyid);\n",
        "CREATE INDEX caseid_rec31 ON dhs_data_tables.\"REC31\"(caseid);\n",
        "CREATE INDEX ALLIDX_rec31 ON dhs_data_tables.\"REC31\"(surveyid,caseid);\n",
        "DROP INDEX IF EXISTS dhs_data_tables.surveyid_rec42;\n",
        "DROP INDEX IF EXISTS dhs_data_tables.caseid_rec42;\n",
        "DROP INDEX IF EXISTS dhs_data_tables.ALLIDX_rec42;"
       ]
      },
      {
       "output_type": "stream",
       "stream": "stdout",
       "text": [
        "\n",
        "CREATE INDEX surveyid_rec42 ON dhs_data_tables.\"REC42\"(surveyid);\n",
        "CREATE INDEX caseid_rec42 ON dhs_data_tables.\"REC42\"(caseid);\n",
        "CREATE INDEX ALLIDX_rec42 ON dhs_data_tables.\"REC42\"(surveyid,caseid);\n",
        "DROP INDEX IF EXISTS dhs_data_tables.surveyid_rec22;\n",
        "DROP INDEX IF EXISTS dhs_data_tables.caseid_rec22;\n",
        "DROP INDEX IF EXISTS dhs_data_tables.ALLIDX_rec22;"
       ]
      },
      {
       "output_type": "stream",
       "stream": "stdout",
       "text": [
        "\n",
        "CREATE INDEX surveyid_rec22 ON dhs_data_tables.\"REC22\"(surveyid);\n",
        "CREATE INDEX caseid_rec22 ON dhs_data_tables.\"REC22\"(caseid);\n",
        "CREATE INDEX ALLIDX_rec22 ON dhs_data_tables.\"REC22\"(surveyid,caseid);\n",
        "DROP INDEX IF EXISTS dhs_data_tables.surveyid_othrec;"
       ]
      },
      {
       "output_type": "stream",
       "stream": "stdout",
       "text": [
        "\n",
        "CREATE INDEX surveyid_othrec ON dhs_data_tables.\"OTHREC\"(surveyid);\n",
        "DROP INDEX IF EXISTS dhs_data_tables.surveyid_rec01;\n",
        "DROP INDEX IF EXISTS dhs_data_tables.caseid_rec01;\n",
        "DROP INDEX IF EXISTS dhs_data_tables.ALLIDX_rec01;"
       ]
      },
      {
       "output_type": "stream",
       "stream": "stdout",
       "text": [
        "\n",
        "CREATE INDEX surveyid_rec01 ON dhs_data_tables.\"REC01\"(surveyid);\n",
        "CREATE INDEX caseid_rec01 ON dhs_data_tables.\"REC01\"(caseid);\n",
        "CREATE INDEX ALLIDX_rec01 ON dhs_data_tables.\"REC01\"(surveyid,caseid);\n",
        "DROP INDEX IF EXISTS dhs_data_tables.surveyid_rec11;\n",
        "DROP INDEX IF EXISTS dhs_data_tables.caseid_rec11;\n",
        "DROP INDEX IF EXISTS dhs_data_tables.ALLIDX_rec11;"
       ]
      },
      {
       "output_type": "stream",
       "stream": "stdout",
       "text": [
        "\n",
        "CREATE INDEX surveyid_rec11 ON dhs_data_tables.\"REC11\"(surveyid);\n",
        "CREATE INDEX caseid_rec11 ON dhs_data_tables.\"REC11\"(caseid);\n",
        "CREATE INDEX ALLIDX_rec11 ON dhs_data_tables.\"REC11\"(surveyid,caseid);\n",
        "DROP INDEX IF EXISTS dhs_data_tables.surveyid_rec21;\n",
        "DROP INDEX IF EXISTS dhs_data_tables.caseid_rec21;\n",
        "DROP INDEX IF EXISTS dhs_data_tables.bidx_rec21;\n",
        "DROP INDEX IF EXISTS dhs_data_tables.ALLIDX_rec21;\n",
        "DROP INDEX IF EXISTS dhs_data_tables.TWOIDX_rec21;"
       ]
      },
      {
       "output_type": "stream",
       "stream": "stdout",
       "text": [
        "\n",
        "CREATE INDEX surveyid_rec21 ON dhs_data_tables.\"REC21\"(surveyid);\n",
        "CREATE INDEX caseid_rec21 ON dhs_data_tables.\"REC21\"(caseid);\n",
        "CREATE INDEX bidx_rec21 ON dhs_data_tables.\"REC21\"(bidx);\n",
        "CREATE INDEX ALLIDX_rec21 ON dhs_data_tables.\"REC21\"(surveyid,caseid,bidx);\n",
        "CREATE INDEX TWOIDX_rec21 ON dhs_data_tables.\"REC21\"(surveyid,caseid);\n",
        "DROP INDEX IF EXISTS dhs_data_tables.surveyid_rec33;\n",
        "DROP INDEX IF EXISTS dhs_data_tables.caseid_rec33;\n",
        "DROP INDEX IF EXISTS dhs_data_tables.cpidx_rec33;\n",
        "DROP INDEX IF EXISTS dhs_data_tables.ALLIDX_rec33;\n",
        "DROP INDEX IF EXISTS dhs_data_tables.TWOIDX_rec33;"
       ]
      },
      {
       "output_type": "stream",
       "stream": "stdout",
       "text": [
        "\n",
        "CREATE INDEX surveyid_rec33 ON dhs_data_tables.\"REC33\"(surveyid);\n",
        "CREATE INDEX caseid_rec33 ON dhs_data_tables.\"REC33\"(caseid);\n",
        "CREATE INDEX cpidx_rec33 ON dhs_data_tables.\"REC33\"(cpidx);\n",
        "CREATE INDEX ALLIDX_rec33 ON dhs_data_tables.\"REC33\"(surveyid,caseid,cpidx);\n",
        "CREATE INDEX TWOIDX_rec33 ON dhs_data_tables.\"REC33\"(surveyid,caseid);\n",
        "DROP INDEX IF EXISTS dhs_data_tables.surveyid_rec44;\n",
        "DROP INDEX IF EXISTS dhs_data_tables.caseid_rec44;\n",
        "DROP INDEX IF EXISTS dhs_data_tables.hwidx_rec44;\n",
        "DROP INDEX IF EXISTS dhs_data_tables.ALLIDX_rec44;\n",
        "DROP INDEX IF EXISTS dhs_data_tables.TWOIDX_rec44;"
       ]
      },
      {
       "output_type": "stream",
       "stream": "stdout",
       "text": [
        "\n",
        "CREATE INDEX surveyid_rec44 ON dhs_data_tables.\"REC44\"(surveyid);\n",
        "CREATE INDEX caseid_rec44 ON dhs_data_tables.\"REC44\"(caseid);\n",
        "CREATE INDEX hwidx_rec44 ON dhs_data_tables.\"REC44\"(hwidx);\n",
        "CREATE INDEX ALLIDX_rec44 ON dhs_data_tables.\"REC44\"(surveyid,caseid,hwidx);\n",
        "CREATE INDEX TWOIDX_rec44 ON dhs_data_tables.\"REC44\"(surveyid,caseid);\n",
        "DROP INDEX IF EXISTS dhs_data_tables.surveyid_rec51;\n",
        "DROP INDEX IF EXISTS dhs_data_tables.caseid_rec51;\n",
        "DROP INDEX IF EXISTS dhs_data_tables.ALLIDX_rec51;"
       ]
      },
      {
       "output_type": "stream",
       "stream": "stdout",
       "text": [
        "\n",
        "CREATE INDEX surveyid_rec51 ON dhs_data_tables.\"REC51\"(surveyid);\n",
        "CREATE INDEX caseid_rec51 ON dhs_data_tables.\"REC51\"(caseid);\n",
        "CREATE INDEX ALLIDX_rec51 ON dhs_data_tables.\"REC51\"(surveyid,caseid);\n",
        "DROP INDEX IF EXISTS dhs_data_tables.surveyid_rec61;\n",
        "DROP INDEX IF EXISTS dhs_data_tables.caseid_rec61;\n",
        "DROP INDEX IF EXISTS dhs_data_tables.ALLIDX_rec61;"
       ]
      },
      {
       "output_type": "stream",
       "stream": "stdout",
       "text": [
        "\n",
        "CREATE INDEX surveyid_rec61 ON dhs_data_tables.\"REC61\"(surveyid);\n",
        "CREATE INDEX caseid_rec61 ON dhs_data_tables.\"REC61\"(caseid);\n",
        "CREATE INDEX ALLIDX_rec61 ON dhs_data_tables.\"REC61\"(surveyid,caseid);\n",
        "DROP INDEX IF EXISTS dhs_data_tables.surveyid_rec71;\n",
        "DROP INDEX IF EXISTS dhs_data_tables.caseid_rec71;\n",
        "DROP INDEX IF EXISTS dhs_data_tables.ALLIDX_rec71;"
       ]
      },
      {
       "output_type": "stream",
       "stream": "stdout",
       "text": [
        "\n",
        "CREATE INDEX surveyid_rec71 ON dhs_data_tables.\"REC71\"(surveyid);\n",
        "CREATE INDEX caseid_rec71 ON dhs_data_tables.\"REC71\"(caseid);\n",
        "CREATE INDEX ALLIDX_rec71 ON dhs_data_tables.\"REC71\"(surveyid,caseid);\n",
        "DROP INDEX IF EXISTS dhs_data_tables.surveyid_rec75;\n",
        "DROP INDEX IF EXISTS dhs_data_tables.caseid_rec75;\n",
        "DROP INDEX IF EXISTS dhs_data_tables.ALLIDX_rec75;"
       ]
      },
      {
       "output_type": "stream",
       "stream": "stdout",
       "text": [
        "\n",
        "CREATE INDEX surveyid_rec75 ON dhs_data_tables.\"REC75\"(surveyid);\n",
        "CREATE INDEX caseid_rec75 ON dhs_data_tables.\"REC75\"(caseid);\n",
        "CREATE INDEX ALLIDX_rec75 ON dhs_data_tables.\"REC75\"(surveyid,caseid);\n",
        "DROP INDEX IF EXISTS dhs_data_tables.surveyid_rec80;\n",
        "DROP INDEX IF EXISTS dhs_data_tables.caseid_rec80;\n",
        "DROP INDEX IF EXISTS dhs_data_tables.ALLIDX_rec80;"
       ]
      },
      {
       "output_type": "stream",
       "stream": "stdout",
       "text": [
        "\n",
        "CREATE INDEX surveyid_rec80 ON dhs_data_tables.\"REC80\"(surveyid);\n",
        "CREATE INDEX caseid_rec80 ON dhs_data_tables.\"REC80\"(caseid);\n",
        "CREATE INDEX ALLIDX_rec80 ON dhs_data_tables.\"REC80\"(surveyid,caseid);\n",
        "DROP INDEX IF EXISTS dhs_data_tables.surveyid_rec82;\n",
        "DROP INDEX IF EXISTS dhs_data_tables.caseid_rec82;\n",
        "DROP INDEX IF EXISTS dhs_data_tables.ALLIDX_rec82;"
       ]
      },
      {
       "output_type": "stream",
       "stream": "stdout",
       "text": [
        "\n",
        "CREATE INDEX surveyid_rec82 ON dhs_data_tables.\"REC82\"(surveyid);\n",
        "CREATE INDEX caseid_rec82 ON dhs_data_tables.\"REC82\"(caseid);\n",
        "CREATE INDEX ALLIDX_rec82 ON dhs_data_tables.\"REC82\"(surveyid,caseid);\n",
        "DROP INDEX IF EXISTS dhs_data_tables.surveyid_rec83;\n",
        "DROP INDEX IF EXISTS dhs_data_tables.caseid_rec83;\n",
        "DROP INDEX IF EXISTS dhs_data_tables.mmidx_rec83;\n",
        "DROP INDEX IF EXISTS dhs_data_tables.ALLIDX_rec83;\n",
        "DROP INDEX IF EXISTS dhs_data_tables.TWOIDX_rec83;"
       ]
      },
      {
       "output_type": "stream",
       "stream": "stdout",
       "text": [
        "\n",
        "CREATE INDEX surveyid_rec83 ON dhs_data_tables.\"REC83\"(surveyid);\n",
        "CREATE INDEX caseid_rec83 ON dhs_data_tables.\"REC83\"(caseid);\n",
        "CREATE INDEX mmidx_rec83 ON dhs_data_tables.\"REC83\"(mmidx);\n",
        "CREATE INDEX ALLIDX_rec83 ON dhs_data_tables.\"REC83\"(surveyid,caseid,mmidx);\n",
        "CREATE INDEX TWOIDX_rec83 ON dhs_data_tables.\"REC83\"(surveyid,caseid);\n",
        "DROP INDEX IF EXISTS dhs_data_tables.surveyid_rec84;\n",
        "DROP INDEX IF EXISTS dhs_data_tables.caseid_rec84;\n",
        "DROP INDEX IF EXISTS dhs_data_tables.ALLIDX_rec84;"
       ]
      },
      {
       "output_type": "stream",
       "stream": "stdout",
       "text": [
        "\n",
        "CREATE INDEX surveyid_rec84 ON dhs_data_tables.\"REC84\"(surveyid);\n",
        "CREATE INDEX caseid_rec84 ON dhs_data_tables.\"REC84\"(caseid);\n",
        "CREATE INDEX ALLIDX_rec84 ON dhs_data_tables.\"REC84\"(surveyid,caseid);\n",
        "DROP INDEX IF EXISTS dhs_data_tables.surveyid_rec93;\n",
        "DROP INDEX IF EXISTS dhs_data_tables.caseid_rec93;\n",
        "DROP INDEX IF EXISTS dhs_data_tables.idx93_rec93;\n",
        "DROP INDEX IF EXISTS dhs_data_tables.ALLIDX_rec93;\n",
        "DROP INDEX IF EXISTS dhs_data_tables.TWOIDX_rec93;"
       ]
      },
      {
       "output_type": "stream",
       "stream": "stdout",
       "text": [
        "\n",
        "CREATE INDEX surveyid_rec93 ON dhs_data_tables.\"REC93\"(surveyid);\n",
        "CREATE INDEX caseid_rec93 ON dhs_data_tables.\"REC93\"(caseid);\n",
        "CREATE INDEX idx93_rec93 ON dhs_data_tables.\"REC93\"(idx93);\n",
        "CREATE INDEX ALLIDX_rec93 ON dhs_data_tables.\"REC93\"(surveyid,caseid,idx93);\n",
        "CREATE INDEX TWOIDX_rec93 ON dhs_data_tables.\"REC93\"(surveyid,caseid);\n",
        "DROP INDEX IF EXISTS dhs_data_tables.surveyid_rec96;\n",
        "DROP INDEX IF EXISTS dhs_data_tables.caseid_rec96;\n",
        "DROP INDEX IF EXISTS dhs_data_tables.idx96_rec96;\n",
        "DROP INDEX IF EXISTS dhs_data_tables.ALLIDX_rec96;\n",
        "DROP INDEX IF EXISTS dhs_data_tables.TWOIDX_rec96;"
       ]
      },
      {
       "output_type": "stream",
       "stream": "stdout",
       "text": [
        "\n",
        "CREATE INDEX surveyid_rec96 ON dhs_data_tables.\"REC96\"(surveyid);\n",
        "CREATE INDEX caseid_rec96 ON dhs_data_tables.\"REC96\"(caseid);\n",
        "CREATE INDEX idx96_rec96 ON dhs_data_tables.\"REC96\"(idx96);\n",
        "CREATE INDEX ALLIDX_rec96 ON dhs_data_tables.\"REC96\"(surveyid,caseid,idx96);\n",
        "CREATE INDEX TWOIDX_rec96 ON dhs_data_tables.\"REC96\"(surveyid,caseid);\n",
        "DROP INDEX IF EXISTS dhs_data_tables.surveyid_rec9a;\n",
        "DROP INDEX IF EXISTS dhs_data_tables.caseid_rec9a;\n",
        "DROP INDEX IF EXISTS dhs_data_tables.idx9a_rec9a;\n",
        "DROP INDEX IF EXISTS dhs_data_tables.ALLIDX_rec9a;\n",
        "DROP INDEX IF EXISTS dhs_data_tables.TWOIDX_rec9a;"
       ]
      },
      {
       "output_type": "stream",
       "stream": "stdout",
       "text": [
        "\n",
        "CREATE INDEX surveyid_rec9a ON dhs_data_tables.\"REC9A\"(surveyid);\n",
        "CREATE INDEX caseid_rec9a ON dhs_data_tables.\"REC9A\"(caseid);\n",
        "CREATE INDEX idx9a_rec9a ON dhs_data_tables.\"REC9A\"(idx9a);\n",
        "CREATE INDEX ALLIDX_rec9a ON dhs_data_tables.\"REC9A\"(surveyid,caseid,idx9a);\n",
        "CREATE INDEX TWOIDX_rec9a ON dhs_data_tables.\"REC9A\"(surveyid,caseid);\n",
        "DROP INDEX IF EXISTS dhs_data_tables.surveyid_rec9b;\n",
        "DROP INDEX IF EXISTS dhs_data_tables.caseid_rec9b;\n",
        "DROP INDEX IF EXISTS dhs_data_tables.s442id_rec9b;\n",
        "DROP INDEX IF EXISTS dhs_data_tables.ALLIDX_rec9b;\n",
        "DROP INDEX IF EXISTS dhs_data_tables.TWOIDX_rec9b;"
       ]
      },
      {
       "output_type": "stream",
       "stream": "stdout",
       "text": [
        "\n",
        "CREATE INDEX surveyid_rec9b ON dhs_data_tables.\"REC9B\"(surveyid);\n",
        "CREATE INDEX caseid_rec9b ON dhs_data_tables.\"REC9B\"(caseid);\n",
        "CREATE INDEX s442id_rec9b ON dhs_data_tables.\"REC9B\"(s442id);\n",
        "CREATE INDEX ALLIDX_rec9b ON dhs_data_tables.\"REC9B\"(surveyid,caseid,s442id);\n",
        "CREATE INDEX TWOIDX_rec9b ON dhs_data_tables.\"REC9B\"(surveyid,caseid);\n",
        "DROP INDEX IF EXISTS dhs_data_tables.surveyid_rec9c;\n",
        "DROP INDEX IF EXISTS dhs_data_tables.caseid_rec9c;\n",
        "DROP INDEX IF EXISTS dhs_data_tables.ALLIDX_rec9c;"
       ]
      },
      {
       "output_type": "stream",
       "stream": "stdout",
       "text": [
        "\n",
        "CREATE INDEX surveyid_rec9c ON dhs_data_tables.\"REC9C\"(surveyid);\n",
        "CREATE INDEX caseid_rec9c ON dhs_data_tables.\"REC9C\"(caseid);\n",
        "CREATE INDEX ALLIDX_rec9c ON dhs_data_tables.\"REC9C\"(surveyid,caseid);\n",
        "DROP INDEX IF EXISTS dhs_data_tables.surveyid_recfg;\n",
        "DROP INDEX IF EXISTS dhs_data_tables.caseid_recfg;\n",
        "DROP INDEX IF EXISTS dhs_data_tables.ALLIDX_recfg;"
       ]
      },
      {
       "output_type": "stream",
       "stream": "stdout",
       "text": [
        "\n",
        "CREATE INDEX surveyid_recfg ON dhs_data_tables.\"RECFG\"(surveyid);\n",
        "CREATE INDEX caseid_recfg ON dhs_data_tables.\"RECFG\"(caseid);\n",
        "CREATE INDEX ALLIDX_recfg ON dhs_data_tables.\"RECFG\"(surveyid,caseid);\n",
        "DROP INDEX IF EXISTS dhs_data_tables.surveyid_recg2;\n",
        "DROP INDEX IF EXISTS dhs_data_tables.caseid_recg2;\n",
        "DROP INDEX IF EXISTS dhs_data_tables.gidx_recg2;\n",
        "DROP INDEX IF EXISTS dhs_data_tables.ALLIDX_recg2;\n",
        "DROP INDEX IF EXISTS dhs_data_tables.TWOIDX_recg2;"
       ]
      },
      {
       "output_type": "stream",
       "stream": "stdout",
       "text": [
        "\n",
        "CREATE INDEX surveyid_recg2 ON dhs_data_tables.\"RECG2\"(surveyid);\n",
        "CREATE INDEX caseid_recg2 ON dhs_data_tables.\"RECG2\"(caseid);\n",
        "CREATE INDEX gidx_recg2 ON dhs_data_tables.\"RECG2\"(gidx);\n",
        "CREATE INDEX ALLIDX_recg2 ON dhs_data_tables.\"RECG2\"(surveyid,caseid,gidx);\n",
        "CREATE INDEX TWOIDX_recg2 ON dhs_data_tables.\"RECG2\"(surveyid,caseid);\n",
        "DROP INDEX IF EXISTS dhs_data_tables.surveyid_recgc;\n",
        "DROP INDEX IF EXISTS dhs_data_tables.caseid_recgc;\n",
        "DROP INDEX IF EXISTS dhs_data_tables.ALLIDX_recgc;"
       ]
      },
      {
       "output_type": "stream",
       "stream": "stdout",
       "text": [
        "\n",
        "CREATE INDEX surveyid_recgc ON dhs_data_tables.\"RECGC\"(surveyid);\n",
        "CREATE INDEX caseid_recgc ON dhs_data_tables.\"RECGC\"(caseid);\n",
        "CREATE INDEX ALLIDX_recgc ON dhs_data_tables.\"RECGC\"(surveyid,caseid);\n",
        "DROP INDEX IF EXISTS dhs_data_tables.surveyid_rech0;\n",
        "DROP INDEX IF EXISTS dhs_data_tables.hhid_rech0;\n",
        "DROP INDEX IF EXISTS dhs_data_tables.ALLIDX_rech0;"
       ]
      },
      {
       "output_type": "stream",
       "stream": "stdout",
       "text": [
        "\n",
        "CREATE INDEX surveyid_rech0 ON dhs_data_tables.\"RECH0\"(surveyid);\n",
        "CREATE INDEX hhid_rech0 ON dhs_data_tables.\"RECH0\"(hhid);\n",
        "CREATE INDEX ALLIDX_rech0 ON dhs_data_tables.\"RECH0\"(surveyid,hhid);\n",
        "DROP INDEX IF EXISTS dhs_data_tables.surveyid_rech1;\n",
        "DROP INDEX IF EXISTS dhs_data_tables.hhid_rech1;\n",
        "DROP INDEX IF EXISTS dhs_data_tables.hvidx_rech1;\n",
        "DROP INDEX IF EXISTS dhs_data_tables.ALLIDX_rech1;\n",
        "DROP INDEX IF EXISTS dhs_data_tables.TWOIDX_rech1;"
       ]
      },
      {
       "output_type": "stream",
       "stream": "stdout",
       "text": [
        "\n",
        "CREATE INDEX surveyid_rech1 ON dhs_data_tables.\"RECH1\"(surveyid);\n",
        "CREATE INDEX hhid_rech1 ON dhs_data_tables.\"RECH1\"(hhid);\n",
        "CREATE INDEX hvidx_rech1 ON dhs_data_tables.\"RECH1\"(hvidx);\n",
        "CREATE INDEX ALLIDX_rech1 ON dhs_data_tables.\"RECH1\"(surveyid,hhid,hvidx);\n",
        "CREATE INDEX TWOIDX_rech1 ON dhs_data_tables.\"RECH1\"(surveyid,hhid);\n",
        "DROP INDEX IF EXISTS dhs_data_tables.surveyid_rech11;\n",
        "DROP INDEX IF EXISTS dhs_data_tables.hhid_rech11;\n",
        "DROP INDEX IF EXISTS dhs_data_tables.ALLIDX_rech11;"
       ]
      },
      {
       "output_type": "stream",
       "stream": "stdout",
       "text": [
        "\n",
        "CREATE INDEX surveyid_rech11 ON dhs_data_tables.\"RECH11\"(surveyid);\n",
        "CREATE INDEX hhid_rech11 ON dhs_data_tables.\"RECH11\"(hhid);\n",
        "CREATE INDEX ALLIDX_rech11 ON dhs_data_tables.\"RECH11\"(surveyid,hhid);\n",
        "DROP INDEX IF EXISTS dhs_data_tables.surveyid_rech2a;\n",
        "DROP INDEX IF EXISTS dhs_data_tables.hhid_rech2a;\n",
        "DROP INDEX IF EXISTS dhs_data_tables.ALLIDX_rech2a;"
       ]
      },
      {
       "output_type": "stream",
       "stream": "stdout",
       "text": [
        "\n",
        "CREATE INDEX surveyid_rech2a ON dhs_data_tables.\"RECH2A\"(surveyid);\n",
        "CREATE INDEX hhid_rech2a ON dhs_data_tables.\"RECH2A\"(hhid);\n",
        "CREATE INDEX ALLIDX_rech2a ON dhs_data_tables.\"RECH2A\"(surveyid,hhid);\n",
        "DROP INDEX IF EXISTS dhs_data_tables.surveyid_rech4a;\n",
        "DROP INDEX IF EXISTS dhs_data_tables.hhid_rech4a;\n",
        "DROP INDEX IF EXISTS dhs_data_tables.idxh4a_rech4a;\n",
        "DROP INDEX IF EXISTS dhs_data_tables.ALLIDX_rech4a;\n",
        "DROP INDEX IF EXISTS dhs_data_tables.TWOIDX_rech4a;"
       ]
      },
      {
       "output_type": "stream",
       "stream": "stdout",
       "text": [
        "\n",
        "CREATE INDEX surveyid_rech4a ON dhs_data_tables.\"RECH4A\"(surveyid);\n",
        "CREATE INDEX hhid_rech4a ON dhs_data_tables.\"RECH4A\"(hhid);\n",
        "CREATE INDEX idxh4a_rech4a ON dhs_data_tables.\"RECH4A\"(idxh4a);\n",
        "CREATE INDEX ALLIDX_rech4a ON dhs_data_tables.\"RECH4A\"(surveyid,hhid,idxh4a);\n",
        "CREATE INDEX TWOIDX_rech4a ON dhs_data_tables.\"RECH4A\"(surveyid,hhid);\n",
        "DROP INDEX IF EXISTS dhs_data_tables.surveyid_rech5a;\n",
        "DROP INDEX IF EXISTS dhs_data_tables.hhid_rech5a;\n",
        "DROP INDEX IF EXISTS dhs_data_tables.ALLIDX_rech5a;"
       ]
      },
      {
       "output_type": "stream",
       "stream": "stdout",
       "text": [
        "\n",
        "CREATE INDEX surveyid_rech5a ON dhs_data_tables.\"RECH5A\"(surveyid);\n",
        "CREATE INDEX hhid_rech5a ON dhs_data_tables.\"RECH5A\"(hhid);\n",
        "CREATE INDEX ALLIDX_rech5a ON dhs_data_tables.\"RECH5A\"(surveyid,hhid);\n",
        "DROP INDEX IF EXISTS dhs_data_tables.surveyid_rech5cs;\n",
        "DROP INDEX IF EXISTS dhs_data_tables.hhid_rech5cs;\n",
        "DROP INDEX IF EXISTS dhs_data_tables.idx5cs_rech5cs;\n",
        "DROP INDEX IF EXISTS dhs_data_tables.ALLIDX_rech5cs;\n",
        "DROP INDEX IF EXISTS dhs_data_tables.TWOIDX_rech5cs;"
       ]
      },
      {
       "output_type": "stream",
       "stream": "stdout",
       "text": [
        "\n",
        "CREATE INDEX surveyid_rech5cs ON dhs_data_tables.\"RECH5CS\"(surveyid);\n",
        "CREATE INDEX hhid_rech5cs ON dhs_data_tables.\"RECH5CS\"(hhid);\n",
        "CREATE INDEX idx5cs_rech5cs ON dhs_data_tables.\"RECH5CS\"(idx5cs);\n",
        "CREATE INDEX ALLIDX_rech5cs ON dhs_data_tables.\"RECH5CS\"(surveyid,hhid,idx5cs);\n",
        "CREATE INDEX TWOIDX_rech5cs ON dhs_data_tables.\"RECH5CS\"(surveyid,hhid);\n",
        "DROP INDEX IF EXISTS dhs_data_tables.surveyid_rech5m;\n",
        "DROP INDEX IF EXISTS dhs_data_tables.hhid_rech5m;\n",
        "DROP INDEX IF EXISTS dhs_data_tables.ALLIDX_rech5m;"
       ]
      },
      {
       "output_type": "stream",
       "stream": "stdout",
       "text": [
        "\n",
        "CREATE INDEX surveyid_rech5m ON dhs_data_tables.\"RECH5M\"(surveyid);\n",
        "CREATE INDEX hhid_rech5m ON dhs_data_tables.\"RECH5M\"(hhid);\n",
        "CREATE INDEX ALLIDX_rech5m ON dhs_data_tables.\"RECH5M\"(surveyid,hhid);\n",
        "DROP INDEX IF EXISTS dhs_data_tables.surveyid_rech5s;\n",
        "DROP INDEX IF EXISTS dhs_data_tables.hhid_rech5s;\n",
        "DROP INDEX IF EXISTS dhs_data_tables.ALLIDX_rech5s;\n",
        "CREATE INDEX surveyid_rech5s ON dhs_data_tables.\"RECH5S\"(surveyid);\n",
        "CREATE INDEX hhid_rech5s ON dhs_data_tables.\"RECH5S\"(hhid);\n",
        "CREATE INDEX ALLIDX_rech5s ON dhs_data_tables.\"RECH5S\"(surveyid,hhid);\n",
        "DROP INDEX IF EXISTS dhs_data_tables.surveyid_rech6;\n",
        "DROP INDEX IF EXISTS dhs_data_tables.hhid_rech6;\n",
        "DROP INDEX IF EXISTS dhs_data_tables.idxh6_rech6;\n",
        "DROP INDEX IF EXISTS dhs_data_tables.ALLIDX_rech6;\n",
        "DROP INDEX IF EXISTS dhs_data_tables.TWOIDX_rech6;"
       ]
      },
      {
       "output_type": "stream",
       "stream": "stdout",
       "text": [
        "\n",
        "CREATE INDEX surveyid_rech6 ON dhs_data_tables.\"RECH6\"(surveyid);\n",
        "CREATE INDEX hhid_rech6 ON dhs_data_tables.\"RECH6\"(hhid);\n",
        "CREATE INDEX idxh6_rech6 ON dhs_data_tables.\"RECH6\"(idxh6);\n",
        "CREATE INDEX ALLIDX_rech6 ON dhs_data_tables.\"RECH6\"(surveyid,hhid,idxh6);\n",
        "CREATE INDEX TWOIDX_rech6 ON dhs_data_tables.\"RECH6\"(surveyid,hhid);\n",
        "DROP INDEX IF EXISTS dhs_data_tables.surveyid_rech6a;\n",
        "DROP INDEX IF EXISTS dhs_data_tables.hhid_rech6a;\n",
        "DROP INDEX IF EXISTS dhs_data_tables.ALLIDX_rech6a;"
       ]
      },
      {
       "output_type": "stream",
       "stream": "stdout",
       "text": [
        "\n",
        "CREATE INDEX surveyid_rech6a ON dhs_data_tables.\"RECH6A\"(surveyid);\n",
        "CREATE INDEX hhid_rech6a ON dhs_data_tables.\"RECH6A\"(hhid);\n",
        "CREATE INDEX ALLIDX_rech6a ON dhs_data_tables.\"RECH6A\"(surveyid,hhid);\n",
        "DROP INDEX IF EXISTS dhs_data_tables.surveyid_rech6b;\n",
        "DROP INDEX IF EXISTS dhs_data_tables.hhid_rech6b;\n",
        "DROP INDEX IF EXISTS dhs_data_tables.h6bidx_rech6b;\n",
        "DROP INDEX IF EXISTS dhs_data_tables.ALLIDX_rech6b;\n",
        "DROP INDEX IF EXISTS dhs_data_tables.TWOIDX_rech6b;\n",
        "CREATE INDEX surveyid_rech6b ON dhs_data_tables.\"RECH6B\"(surveyid);\n",
        "CREATE INDEX hhid_rech6b ON dhs_data_tables.\"RECH6B\"(hhid);\n",
        "CREATE INDEX h6bidx_rech6b ON dhs_data_tables.\"RECH6B\"(h6bidx);\n",
        "CREATE INDEX ALLIDX_rech6b ON dhs_data_tables.\"RECH6B\"(surveyid,hhid,h6bidx);\n",
        "CREATE INDEX TWOIDX_rech6b ON dhs_data_tables.\"RECH6B\"(surveyid,hhid);\n",
        "DROP INDEX IF EXISTS dhs_data_tables.surveyid_rech6s;\n",
        "DROP INDEX IF EXISTS dhs_data_tables.hhid_rech6s;\n",
        "DROP INDEX IF EXISTS dhs_data_tables.ALLIDX_rech6s;"
       ]
      },
      {
       "output_type": "stream",
       "stream": "stdout",
       "text": [
        "\n",
        "CREATE INDEX surveyid_rech6s ON dhs_data_tables.\"RECH6S\"(surveyid);\n",
        "CREATE INDEX hhid_rech6s ON dhs_data_tables.\"RECH6S\"(hhid);\n",
        "CREATE INDEX ALLIDX_rech6s ON dhs_data_tables.\"RECH6S\"(surveyid,hhid);\n",
        "DROP INDEX IF EXISTS dhs_data_tables.surveyid_rech7a;\n",
        "DROP INDEX IF EXISTS dhs_data_tables.hhid_rech7a;\n",
        "DROP INDEX IF EXISTS dhs_data_tables.ALLIDX_rech7a;"
       ]
      },
      {
       "output_type": "stream",
       "stream": "stdout",
       "text": [
        "\n",
        "CREATE INDEX surveyid_rech7a ON dhs_data_tables.\"RECH7A\"(surveyid);\n",
        "CREATE INDEX hhid_rech7a ON dhs_data_tables.\"RECH7A\"(hhid);\n",
        "CREATE INDEX ALLIDX_rech7a ON dhs_data_tables.\"RECH7A\"(surveyid,hhid);\n",
        "DROP INDEX IF EXISTS dhs_data_tables.surveyid_rech7b;\n",
        "DROP INDEX IF EXISTS dhs_data_tables.hhid_rech7b;\n",
        "DROP INDEX IF EXISTS dhs_data_tables.ALLIDX_rech7b;\n",
        "CREATE INDEX surveyid_rech7b ON dhs_data_tables.\"RECH7B\"(surveyid);\n",
        "CREATE INDEX hhid_rech7b ON dhs_data_tables.\"RECH7B\"(hhid);\n",
        "CREATE INDEX ALLIDX_rech7b ON dhs_data_tables.\"RECH7B\"(surveyid,hhid);\n",
        "DROP INDEX IF EXISTS dhs_data_tables.surveyid_rech7c;\n",
        "DROP INDEX IF EXISTS dhs_data_tables.hhid_rech7c;\n",
        "DROP INDEX IF EXISTS dhs_data_tables.ALLIDX_rech7c;\n",
        "CREATE INDEX surveyid_rech7c ON dhs_data_tables.\"RECH7C\"(surveyid);\n",
        "CREATE INDEX hhid_rech7c ON dhs_data_tables.\"RECH7C\"(hhid);\n",
        "CREATE INDEX ALLIDX_rech7c ON dhs_data_tables.\"RECH7C\"(surveyid,hhid);\n",
        "DROP INDEX IF EXISTS dhs_data_tables.surveyid_rech8;\n",
        "DROP INDEX IF EXISTS dhs_data_tables.hhid_rech8;\n",
        "DROP INDEX IF EXISTS dhs_data_tables.idxh8_rech8;\n",
        "DROP INDEX IF EXISTS dhs_data_tables.shidx8_rech8;\n",
        "DROP INDEX IF EXISTS dhs_data_tables.ALLIDX_rech8;\n",
        "DROP INDEX IF EXISTS dhs_data_tables.TWOIDX_rech8;"
       ]
      },
      {
       "output_type": "stream",
       "stream": "stdout",
       "text": [
        "\n",
        "CREATE INDEX surveyid_rech8 ON dhs_data_tables.\"RECH8\"(surveyid);\n",
        "CREATE INDEX hhid_rech8 ON dhs_data_tables.\"RECH8\"(hhid);\n",
        "CREATE INDEX idxh8_rech8 ON dhs_data_tables.\"RECH8\"(idxh8);\n",
        "CREATE INDEX shidx8_rech8 ON dhs_data_tables.\"RECH8\"(shidx8);\n",
        "CREATE INDEX ALLIDX_rech8 ON dhs_data_tables.\"RECH8\"(surveyid,hhid,idxh8,shidx8);\n",
        "CREATE INDEX TWOIDX_rech8 ON dhs_data_tables.\"RECH8\"(surveyid,hhid,idxh8);\n",
        "DROP INDEX IF EXISTS dhs_data_tables.surveyid_rech9a;\n",
        "DROP INDEX IF EXISTS dhs_data_tables.hhid_rech9a;\n",
        "DROP INDEX IF EXISTS dhs_data_tables.idxh9a_rech9a;\n",
        "DROP INDEX IF EXISTS dhs_data_tables.ALLIDX_rech9a;\n",
        "DROP INDEX IF EXISTS dhs_data_tables.TWOIDX_rech9a;"
       ]
      },
      {
       "output_type": "stream",
       "stream": "stdout",
       "text": [
        "\n",
        "CREATE INDEX surveyid_rech9a ON dhs_data_tables.\"RECH9A\"(surveyid);\n",
        "CREATE INDEX hhid_rech9a ON dhs_data_tables.\"RECH9A\"(hhid);\n",
        "CREATE INDEX idxh9a_rech9a ON dhs_data_tables.\"RECH9A\"(idxh9a);\n",
        "CREATE INDEX ALLIDX_rech9a ON dhs_data_tables.\"RECH9A\"(surveyid,hhid,idxh9a);\n",
        "CREATE INDEX TWOIDX_rech9a ON dhs_data_tables.\"RECH9A\"(surveyid,hhid);\n",
        "DROP INDEX IF EXISTS dhs_data_tables.surveyid_recha;\n",
        "DROP INDEX IF EXISTS dhs_data_tables.hhid_recha;\n",
        "DROP INDEX IF EXISTS dhs_data_tables.idxha_recha;\n",
        "DROP INDEX IF EXISTS dhs_data_tables.shidxa_recha;\n",
        "DROP INDEX IF EXISTS dhs_data_tables.ALLIDX_recha;\n",
        "DROP INDEX IF EXISTS dhs_data_tables.TWOIDX_recha;"
       ]
      },
      {
       "output_type": "stream",
       "stream": "stdout",
       "text": [
        "\n",
        "CREATE INDEX surveyid_recha ON dhs_data_tables.\"RECHA\"(surveyid);\n",
        "CREATE INDEX hhid_recha ON dhs_data_tables.\"RECHA\"(hhid);\n",
        "CREATE INDEX idxha_recha ON dhs_data_tables.\"RECHA\"(idxha);\n",
        "CREATE INDEX shidxa_recha ON dhs_data_tables.\"RECHA\"(shidxa);\n",
        "CREATE INDEX ALLIDX_recha ON dhs_data_tables.\"RECHA\"(surveyid,hhid,idxha,shidxa);\n",
        "CREATE INDEX TWOIDX_recha ON dhs_data_tables.\"RECHA\"(surveyid,hhid,idxha);\n",
        "DROP INDEX IF EXISTS dhs_data_tables.surveyid_rechaa;\n",
        "DROP INDEX IF EXISTS dhs_data_tables.hhid_rechaa;\n",
        "DROP INDEX IF EXISTS dhs_data_tables.ALLIDX_rechaa;"
       ]
      },
      {
       "output_type": "stream",
       "stream": "stdout",
       "text": [
        "\n",
        "CREATE INDEX surveyid_rechaa ON dhs_data_tables.\"RECHAA\"(surveyid);\n",
        "CREATE INDEX hhid_rechaa ON dhs_data_tables.\"RECHAA\"(hhid);\n",
        "CREATE INDEX ALLIDX_rechaa ON dhs_data_tables.\"RECHAA\"(surveyid,hhid);\n",
        "DROP INDEX IF EXISTS dhs_data_tables.surveyid_rechb;\n",
        "DROP INDEX IF EXISTS dhs_data_tables.hhid_rechb;\n",
        "DROP INDEX IF EXISTS dhs_data_tables.idxhb_rechb;\n",
        "DROP INDEX IF EXISTS dhs_data_tables.shidxb_rechb;\n",
        "DROP INDEX IF EXISTS dhs_data_tables.ALLIDX_rechb;\n",
        "DROP INDEX IF EXISTS dhs_data_tables.TWOIDX_rechb;"
       ]
      },
      {
       "output_type": "stream",
       "stream": "stdout",
       "text": [
        "\n",
        "CREATE INDEX surveyid_rechb ON dhs_data_tables.\"RECHB\"(surveyid);\n",
        "CREATE INDEX hhid_rechb ON dhs_data_tables.\"RECHB\"(hhid);\n",
        "CREATE INDEX idxhb_rechb ON dhs_data_tables.\"RECHB\"(idxhb);\n",
        "CREATE INDEX shidxb_rechb ON dhs_data_tables.\"RECHB\"(shidxb);\n",
        "CREATE INDEX ALLIDX_rechb ON dhs_data_tables.\"RECHB\"(surveyid,hhid,idxhb,shidxb);\n",
        "CREATE INDEX TWOIDX_rechb ON dhs_data_tables.\"RECHB\"(surveyid,hhid,idxhb);\n",
        "DROP INDEX IF EXISTS dhs_data_tables.surveyid_rechbb;\n",
        "DROP INDEX IF EXISTS dhs_data_tables.hhid_rechbb;\n",
        "DROP INDEX IF EXISTS dhs_data_tables.ALLIDX_rechbb;"
       ]
      },
      {
       "output_type": "stream",
       "stream": "stdout",
       "text": [
        "\n",
        "CREATE INDEX surveyid_rechbb ON dhs_data_tables.\"RECHBB\"(surveyid);\n",
        "CREATE INDEX hhid_rechbb ON dhs_data_tables.\"RECHBB\"(hhid);\n",
        "CREATE INDEX ALLIDX_rechbb ON dhs_data_tables.\"RECHBB\"(surveyid,hhid);\n",
        "DROP INDEX IF EXISTS dhs_data_tables.surveyid_rechc;\n",
        "DROP INDEX IF EXISTS dhs_data_tables.hhid_rechc;\n",
        "DROP INDEX IF EXISTS dhs_data_tables.idxhc_rechc;\n",
        "DROP INDEX IF EXISTS dhs_data_tables.ALLIDX_rechc;\n",
        "DROP INDEX IF EXISTS dhs_data_tables.TWOIDX_rechc;"
       ]
      },
      {
       "output_type": "stream",
       "stream": "stdout",
       "text": [
        "\n",
        "CREATE INDEX surveyid_rechc ON dhs_data_tables.\"RECHC\"(surveyid);\n",
        "CREATE INDEX hhid_rechc ON dhs_data_tables.\"RECHC\"(hhid);\n",
        "CREATE INDEX idxhc_rechc ON dhs_data_tables.\"RECHC\"(idxhc);\n",
        "CREATE INDEX ALLIDX_rechc ON dhs_data_tables.\"RECHC\"(surveyid,hhid,idxhc);\n",
        "CREATE INDEX TWOIDX_rechc ON dhs_data_tables.\"RECHC\"(surveyid,hhid);\n",
        "DROP INDEX IF EXISTS dhs_data_tables.surveyid_rechch;\n",
        "DROP INDEX IF EXISTS dhs_data_tables.hhid_rechch;\n",
        "DROP INDEX IF EXISTS dhs_data_tables.hkidx_rechch;\n",
        "DROP INDEX IF EXISTS dhs_data_tables.ALLIDX_rechch;\n",
        "DROP INDEX IF EXISTS dhs_data_tables.TWOIDX_rechch;"
       ]
      },
      {
       "output_type": "stream",
       "stream": "stdout",
       "text": [
        "\n",
        "CREATE INDEX surveyid_rechch ON dhs_data_tables.\"RECHCH\"(surveyid);\n",
        "CREATE INDEX hhid_rechch ON dhs_data_tables.\"RECHCH\"(hhid);\n",
        "CREATE INDEX hkidx_rechch ON dhs_data_tables.\"RECHCH\"(hkidx);\n",
        "CREATE INDEX ALLIDX_rechch ON dhs_data_tables.\"RECHCH\"(surveyid,hhid,hkidx);\n",
        "CREATE INDEX TWOIDX_rechch ON dhs_data_tables.\"RECHCH\"(surveyid,hhid);\n",
        "DROP INDEX IF EXISTS dhs_data_tables.surveyid_rechch2;\n",
        "DROP INDEX IF EXISTS dhs_data_tables.hhid_rechch2;\n",
        "DROP INDEX IF EXISTS dhs_data_tables.idxch2_rechch2;\n",
        "DROP INDEX IF EXISTS dhs_data_tables.ALLIDX_rechch2;\n",
        "DROP INDEX IF EXISTS dhs_data_tables.TWOIDX_rechch2;"
       ]
      },
      {
       "output_type": "stream",
       "stream": "stdout",
       "text": [
        "\n",
        "CREATE INDEX surveyid_rechch2 ON dhs_data_tables.\"RECHCH2\"(surveyid);\n",
        "CREATE INDEX hhid_rechch2 ON dhs_data_tables.\"RECHCH2\"(hhid);\n",
        "CREATE INDEX idxch2_rechch2 ON dhs_data_tables.\"RECHCH2\"(idxch2);\n",
        "CREATE INDEX ALLIDX_rechch2 ON dhs_data_tables.\"RECHCH2\"(surveyid,hhid,idxch2);\n",
        "CREATE INDEX TWOIDX_rechch2 ON dhs_data_tables.\"RECHCH2\"(surveyid,hhid);\n",
        "DROP INDEX IF EXISTS dhs_data_tables.surveyid_rechchl;\n",
        "DROP INDEX IF EXISTS dhs_data_tables.hhid_rechchl;\n",
        "DROP INDEX IF EXISTS dhs_data_tables.idxchl_rechchl;\n",
        "DROP INDEX IF EXISTS dhs_data_tables.ALLIDX_rechchl;\n",
        "DROP INDEX IF EXISTS dhs_data_tables.TWOIDX_rechchl;"
       ]
      },
      {
       "output_type": "stream",
       "stream": "stdout",
       "text": [
        "\n",
        "CREATE INDEX surveyid_rechchl ON dhs_data_tables.\"RECHCHL\"(surveyid);\n",
        "CREATE INDEX hhid_rechchl ON dhs_data_tables.\"RECHCHL\"(hhid);\n",
        "CREATE INDEX idxchl_rechchl ON dhs_data_tables.\"RECHCHL\"(idxchl);\n",
        "CREATE INDEX ALLIDX_rechchl ON dhs_data_tables.\"RECHCHL\"(surveyid,hhid,idxchl);\n",
        "CREATE INDEX TWOIDX_rechchl ON dhs_data_tables.\"RECHCHL\"(surveyid,hhid);\n",
        "DROP INDEX IF EXISTS dhs_data_tables.surveyid_rechdi;\n",
        "DROP INDEX IF EXISTS dhs_data_tables.hhid_rechdi;\n",
        "DROP INDEX IF EXISTS dhs_data_tables.ALLIDX_rechdi;"
       ]
      },
      {
       "output_type": "stream",
       "stream": "stdout",
       "text": [
        "\n",
        "CREATE INDEX surveyid_rechdi ON dhs_data_tables.\"RECHDI\"(surveyid);\n",
        "CREATE INDEX hhid_rechdi ON dhs_data_tables.\"RECHDI\"(hhid);\n",
        "CREATE INDEX ALLIDX_rechdi ON dhs_data_tables.\"RECHDI\"(surveyid,hhid);\n",
        "DROP INDEX IF EXISTS dhs_data_tables.surveyid_rechdp;\n",
        "DROP INDEX IF EXISTS dhs_data_tables.hhid_rechdp;\n",
        "DROP INDEX IF EXISTS dhs_data_tables.hdpidx_rechdp;\n",
        "DROP INDEX IF EXISTS dhs_data_tables.ALLIDX_rechdp;\n",
        "DROP INDEX IF EXISTS dhs_data_tables.TWOIDX_rechdp;\n",
        "CREATE INDEX surveyid_rechdp ON dhs_data_tables.\"RECHDP\"(surveyid);\n",
        "CREATE INDEX hhid_rechdp ON dhs_data_tables.\"RECHDP\"(hhid);\n",
        "CREATE INDEX hdpidx_rechdp ON dhs_data_tables.\"RECHDP\"(hdpidx);\n",
        "CREATE INDEX ALLIDX_rechdp ON dhs_data_tables.\"RECHDP\"(surveyid,hhid,hdpidx);\n",
        "CREATE INDEX TWOIDX_rechdp ON dhs_data_tables.\"RECHDP\"(surveyid,hhid);\n",
        "DROP INDEX IF EXISTS dhs_data_tables.surveyid_rechdp2;\n",
        "DROP INDEX IF EXISTS dhs_data_tables.hhid_rechdp2;\n",
        "DROP INDEX IF EXISTS dhs_data_tables.hdpidx2_rechdp2;\n",
        "DROP INDEX IF EXISTS dhs_data_tables.ALLIDX_rechdp2;\n",
        "DROP INDEX IF EXISTS dhs_data_tables.TWOIDX_rechdp2;"
       ]
      },
      {
       "output_type": "stream",
       "stream": "stdout",
       "text": [
        "\n",
        "CREATE INDEX surveyid_rechdp2 ON dhs_data_tables.\"RECHDP2\"(surveyid);\n",
        "CREATE INDEX hhid_rechdp2 ON dhs_data_tables.\"RECHDP2\"(hhid);\n",
        "CREATE INDEX hdpidx2_rechdp2 ON dhs_data_tables.\"RECHDP2\"(hdpidx2);\n",
        "CREATE INDEX ALLIDX_rechdp2 ON dhs_data_tables.\"RECHDP2\"(surveyid,hhid,hdpidx2);\n",
        "CREATE INDEX TWOIDX_rechdp2 ON dhs_data_tables.\"RECHDP2\"(surveyid,hhid);\n",
        "DROP INDEX IF EXISTS dhs_data_tables.surveyid_rechel;\n",
        "DROP INDEX IF EXISTS dhs_data_tables.hhid_rechel;\n",
        "DROP INDEX IF EXISTS dhs_data_tables.heidx_rechel;\n",
        "DROP INDEX IF EXISTS dhs_data_tables.ALLIDX_rechel;\n",
        "DROP INDEX IF EXISTS dhs_data_tables.TWOIDX_rechel;\n",
        "CREATE INDEX surveyid_rechel ON dhs_data_tables.\"RECHEL\"(surveyid);\n",
        "CREATE INDEX hhid_rechel ON dhs_data_tables.\"RECHEL\"(hhid);\n",
        "CREATE INDEX heidx_rechel ON dhs_data_tables.\"RECHEL\"(heidx);\n",
        "CREATE INDEX ALLIDX_rechel ON dhs_data_tables.\"RECHEL\"(surveyid,hhid,heidx);\n",
        "CREATE INDEX TWOIDX_rechel ON dhs_data_tables.\"RECHEL\"(surveyid,hhid);\n",
        "DROP INDEX IF EXISTS dhs_data_tables.surveyid_rechg1;\n",
        "DROP INDEX IF EXISTS dhs_data_tables.hhid_rechg1;\n",
        "DROP INDEX IF EXISTS dhs_data_tables.ALLIDX_rechg1;"
       ]
      },
      {
       "output_type": "stream",
       "stream": "stdout",
       "text": [
        "\n",
        "CREATE INDEX surveyid_rechg1 ON dhs_data_tables.\"RECHG1\"(surveyid);\n",
        "CREATE INDEX hhid_rechg1 ON dhs_data_tables.\"RECHG1\"(hhid);\n",
        "CREATE INDEX ALLIDX_rechg1 ON dhs_data_tables.\"RECHG1\"(surveyid,hhid);\n",
        "DROP INDEX IF EXISTS dhs_data_tables.surveyid_rechgs1;\n",
        "DROP INDEX IF EXISTS dhs_data_tables.hhid_rechgs1;\n",
        "DROP INDEX IF EXISTS dhs_data_tables.ALLIDX_rechgs1;"
       ]
      },
      {
       "output_type": "stream",
       "stream": "stdout",
       "text": [
        "\n",
        "CREATE INDEX surveyid_rechgs1 ON dhs_data_tables.\"RECHGS1\"(surveyid);\n",
        "CREATE INDEX hhid_rechgs1 ON dhs_data_tables.\"RECHGS1\"(hhid);\n",
        "CREATE INDEX ALLIDX_rechgs1 ON dhs_data_tables.\"RECHGS1\"(surveyid,hhid);\n",
        "DROP INDEX IF EXISTS dhs_data_tables.surveyid_rechi;\n",
        "DROP INDEX IF EXISTS dhs_data_tables.hhid_rechi;\n",
        "DROP INDEX IF EXISTS dhs_data_tables.ALLIDX_rechi;"
       ]
      },
      {
       "output_type": "stream",
       "stream": "stdout",
       "text": [
        "\n",
        "CREATE INDEX surveyid_rechi ON dhs_data_tables.\"RECHI\"(surveyid);\n",
        "CREATE INDEX hhid_rechi ON dhs_data_tables.\"RECHI\"(hhid);\n",
        "CREATE INDEX ALLIDX_rechi ON dhs_data_tables.\"RECHI\"(surveyid,hhid);\n",
        "DROP INDEX IF EXISTS dhs_data_tables.surveyid_rechii;\n",
        "DROP INDEX IF EXISTS dhs_data_tables.hhid_rechii;\n",
        "DROP INDEX IF EXISTS dhs_data_tables.ALLIDX_rechii;\n",
        "CREATE INDEX surveyid_rechii ON dhs_data_tables.\"RECHII\"(surveyid);\n",
        "CREATE INDEX hhid_rechii ON dhs_data_tables.\"RECHII\"(hhid);\n",
        "CREATE INDEX ALLIDX_rechii ON dhs_data_tables.\"RECHII\"(surveyid,hhid);\n",
        "DROP INDEX IF EXISTS dhs_data_tables.surveyid_rechil;\n",
        "DROP INDEX IF EXISTS dhs_data_tables.hhid_rechil;\n",
        "DROP INDEX IF EXISTS dhs_data_tables.ALLIDX_rechil;"
       ]
      },
      {
       "output_type": "stream",
       "stream": "stdout",
       "text": [
        "\n",
        "CREATE INDEX surveyid_rechil ON dhs_data_tables.\"RECHIL\"(surveyid);\n",
        "CREATE INDEX hhid_rechil ON dhs_data_tables.\"RECHIL\"(hhid);\n",
        "CREATE INDEX ALLIDX_rechil ON dhs_data_tables.\"RECHIL\"(surveyid,hhid);\n",
        "DROP INDEX IF EXISTS dhs_data_tables.surveyid_rechlb;\n",
        "DROP INDEX IF EXISTS dhs_data_tables.hhid_rechlb;\n",
        "DROP INDEX IF EXISTS dhs_data_tables.ALLIDX_rechlb;"
       ]
      },
      {
       "output_type": "stream",
       "stream": "stdout",
       "text": [
        "\n",
        "CREATE INDEX surveyid_rechlb ON dhs_data_tables.\"RECHLB\"(surveyid);\n",
        "CREATE INDEX hhid_rechlb ON dhs_data_tables.\"RECHLB\"(hhid);\n",
        "CREATE INDEX ALLIDX_rechlb ON dhs_data_tables.\"RECHLB\"(surveyid,hhid);\n",
        "DROP INDEX IF EXISTS dhs_data_tables.surveyid_rechm1;\n",
        "DROP INDEX IF EXISTS dhs_data_tables.hhid_rechm1;\n",
        "DROP INDEX IF EXISTS dhs_data_tables.ALLIDX_rechm1;"
       ]
      },
      {
       "output_type": "stream",
       "stream": "stdout",
       "text": [
        "\n",
        "CREATE INDEX surveyid_rechm1 ON dhs_data_tables.\"RECHM1\"(surveyid);\n",
        "CREATE INDEX hhid_rechm1 ON dhs_data_tables.\"RECHM1\"(hhid);\n",
        "CREATE INDEX ALLIDX_rechm1 ON dhs_data_tables.\"RECHM1\"(surveyid,hhid);\n",
        "DROP INDEX IF EXISTS dhs_data_tables.surveyid_rechm2;\n",
        "DROP INDEX IF EXISTS dhs_data_tables.hhid_rechm2;\n",
        "DROP INDEX IF EXISTS dhs_data_tables.ALLIDX_rechm2;\n",
        "CREATE INDEX surveyid_rechm2 ON dhs_data_tables.\"RECHM2\"(surveyid);\n",
        "CREATE INDEX hhid_rechm2 ON dhs_data_tables.\"RECHM2\"(hhid);\n",
        "CREATE INDEX ALLIDX_rechm2 ON dhs_data_tables.\"RECHM2\"(surveyid,hhid);\n",
        "DROP INDEX IF EXISTS dhs_data_tables.surveyid_rechm3;\n",
        "DROP INDEX IF EXISTS dhs_data_tables.hhid_rechm3;\n",
        "DROP INDEX IF EXISTS dhs_data_tables.ALLIDX_rechm3;"
       ]
      },
      {
       "output_type": "stream",
       "stream": "stdout",
       "text": [
        "\n",
        "CREATE INDEX surveyid_rechm3 ON dhs_data_tables.\"RECHM3\"(surveyid);\n",
        "CREATE INDEX hhid_rechm3 ON dhs_data_tables.\"RECHM3\"(hhid);\n",
        "CREATE INDEX ALLIDX_rechm3 ON dhs_data_tables.\"RECHM3\"(surveyid,hhid);\n",
        "DROP INDEX IF EXISTS dhs_data_tables.surveyid_rechma;\n",
        "DROP INDEX IF EXISTS dhs_data_tables.hhid_rechma;\n",
        "DROP INDEX IF EXISTS dhs_data_tables.ALLIDX_rechma;"
       ]
      },
      {
       "output_type": "stream",
       "stream": "stdout",
       "text": [
        "\n",
        "CREATE INDEX surveyid_rechma ON dhs_data_tables.\"RECHMA\"(surveyid);\n",
        "CREATE INDEX hhid_rechma ON dhs_data_tables.\"RECHMA\"(hhid);\n",
        "CREATE INDEX ALLIDX_rechma ON dhs_data_tables.\"RECHMA\"(surveyid,hhid);\n",
        "DROP INDEX IF EXISTS dhs_data_tables.surveyid_rechmc;\n",
        "DROP INDEX IF EXISTS dhs_data_tables.hhid_rechmc;\n",
        "DROP INDEX IF EXISTS dhs_data_tables.idxhmc_rechmc;\n",
        "DROP INDEX IF EXISTS dhs_data_tables.idxhml_rechmc;\n",
        "DROP INDEX IF EXISTS dhs_data_tables.ALLIDX_rechmc;\n",
        "DROP INDEX IF EXISTS dhs_data_tables.TWOIDX_rechmc;"
       ]
      },
      {
       "output_type": "stream",
       "stream": "stdout",
       "text": [
        "\n",
        "CREATE INDEX surveyid_rechmc ON dhs_data_tables.\"RECHMC\"(surveyid);\n",
        "CREATE INDEX hhid_rechmc ON dhs_data_tables.\"RECHMC\"(hhid);\n",
        "CREATE INDEX idxhmc_rechmc ON dhs_data_tables.\"RECHMC\"(idxhmc);\n",
        "CREATE INDEX idxhml_rechmc ON dhs_data_tables.\"RECHMC\"(idxhml);\n",
        "CREATE INDEX ALLIDX_rechmc ON dhs_data_tables.\"RECHMC\"(surveyid,hhid,idxhmc,idxhml);\n",
        "CREATE INDEX TWOIDX_rechmc ON dhs_data_tables.\"RECHMC\"(surveyid,hhid,idxhmc);\n",
        "DROP INDEX IF EXISTS dhs_data_tables.surveyid_rechmcs;\n",
        "DROP INDEX IF EXISTS dhs_data_tables.hhid_rechmcs;\n",
        "DROP INDEX IF EXISTS dhs_data_tables.hmcsidx_rechmcs;\n",
        "DROP INDEX IF EXISTS dhs_data_tables.idxmcs_rechmcs;\n",
        "DROP INDEX IF EXISTS dhs_data_tables.ALLIDX_rechmcs;\n",
        "DROP INDEX IF EXISTS dhs_data_tables.TWOIDX_rechmcs;"
       ]
      },
      {
       "output_type": "stream",
       "stream": "stdout",
       "text": [
        "\n",
        "CREATE INDEX surveyid_rechmcs ON dhs_data_tables.\"RECHMCS\"(surveyid);\n",
        "CREATE INDEX hhid_rechmcs ON dhs_data_tables.\"RECHMCS\"(hhid);\n",
        "CREATE INDEX hmcsidx_rechmcs ON dhs_data_tables.\"RECHMCS\"(hmcsidx);\n",
        "CREATE INDEX idxmcs_rechmcs ON dhs_data_tables.\"RECHMCS\"(idxmcs);\n",
        "CREATE INDEX ALLIDX_rechmcs ON dhs_data_tables.\"RECHMCS\"(surveyid,hhid,hmcsidx,idxmcs);\n",
        "CREATE INDEX TWOIDX_rechmcs ON dhs_data_tables.\"RECHMCS\"(surveyid,hhid,hmcsidx);\n",
        "DROP INDEX IF EXISTS dhs_data_tables.surveyid_rechmg;\n",
        "DROP INDEX IF EXISTS dhs_data_tables.hhid_rechmg;\n",
        "DROP INDEX IF EXISTS dhs_data_tables.ALLIDX_rechmg;"
       ]
      },
      {
       "output_type": "stream",
       "stream": "stdout",
       "text": [
        "\n",
        "CREATE INDEX surveyid_rechmg ON dhs_data_tables.\"RECHMG\"(surveyid);\n",
        "CREATE INDEX hhid_rechmg ON dhs_data_tables.\"RECHMG\"(hhid);\n",
        "CREATE INDEX ALLIDX_rechmg ON dhs_data_tables.\"RECHMG\"(surveyid,hhid);\n",
        "DROP INDEX IF EXISTS dhs_data_tables.surveyid_rechmh;\n",
        "DROP INDEX IF EXISTS dhs_data_tables.hhid_rechmh;\n",
        "DROP INDEX IF EXISTS dhs_data_tables.hmhidx_rechmh;\n",
        "DROP INDEX IF EXISTS dhs_data_tables.ALLIDX_rechmh;\n",
        "DROP INDEX IF EXISTS dhs_data_tables.TWOIDX_rechmh;"
       ]
      },
      {
       "output_type": "stream",
       "stream": "stdout",
       "text": [
        "\n",
        "CREATE INDEX surveyid_rechmh ON dhs_data_tables.\"RECHMH\"(surveyid);\n",
        "CREATE INDEX hhid_rechmh ON dhs_data_tables.\"RECHMH\"(hhid);\n",
        "CREATE INDEX hmhidx_rechmh ON dhs_data_tables.\"RECHMH\"(hmhidx);\n",
        "CREATE INDEX ALLIDX_rechmh ON dhs_data_tables.\"RECHMH\"(surveyid,hhid,hmhidx);\n",
        "CREATE INDEX TWOIDX_rechmh ON dhs_data_tables.\"RECHMH\"(surveyid,hhid);\n",
        "DROP INDEX IF EXISTS dhs_data_tables.surveyid_rec43;\n",
        "DROP INDEX IF EXISTS dhs_data_tables.caseid_rec43;\n",
        "DROP INDEX IF EXISTS dhs_data_tables.hidx_rec43;\n",
        "DROP INDEX IF EXISTS dhs_data_tables.ALLIDX_rec43;\n",
        "DROP INDEX IF EXISTS dhs_data_tables.TWOIDX_rec43;"
       ]
      },
      {
       "output_type": "stream",
       "stream": "stdout",
       "text": [
        "\n",
        "CREATE INDEX surveyid_rec43 ON dhs_data_tables.\"REC43\"(surveyid);\n",
        "CREATE INDEX caseid_rec43 ON dhs_data_tables.\"REC43\"(caseid);\n",
        "CREATE INDEX hidx_rec43 ON dhs_data_tables.\"REC43\"(hidx);\n",
        "CREATE INDEX ALLIDX_rec43 ON dhs_data_tables.\"REC43\"(surveyid,caseid,hidx);\n",
        "CREATE INDEX TWOIDX_rec43 ON dhs_data_tables.\"REC43\"(surveyid,caseid);\n",
        "DROP INDEX IF EXISTS dhs_data_tables.surveyid_rech2;\n",
        "DROP INDEX IF EXISTS dhs_data_tables.hhid_rech2;\n",
        "DROP INDEX IF EXISTS dhs_data_tables.ALLIDX_rech2;"
       ]
      },
      {
       "output_type": "stream",
       "stream": "stdout",
       "text": [
        "\n",
        "CREATE INDEX surveyid_rech2 ON dhs_data_tables.\"RECH2\"(surveyid);\n",
        "CREATE INDEX hhid_rech2 ON dhs_data_tables.\"RECH2\"(hhid);\n",
        "CREATE INDEX ALLIDX_rech2 ON dhs_data_tables.\"RECH2\"(surveyid,hhid);\n",
        "DROP INDEX IF EXISTS dhs_data_tables.surveyid_rec81;\n",
        "DROP INDEX IF EXISTS dhs_data_tables.caseid_rec81;\n",
        "DROP INDEX IF EXISTS dhs_data_tables.ALLIDX_rec81;"
       ]
      },
      {
       "output_type": "stream",
       "stream": "stdout",
       "text": [
        "\n",
        "CREATE INDEX surveyid_rec81 ON dhs_data_tables.\"REC81\"(surveyid);\n",
        "CREATE INDEX caseid_rec81 ON dhs_data_tables.\"REC81\"(caseid);\n",
        "CREATE INDEX ALLIDX_rec81 ON dhs_data_tables.\"REC81\"(surveyid,caseid);\n",
        "DROP INDEX IF EXISTS dhs_data_tables.surveyid_rechpc;\n",
        "DROP INDEX IF EXISTS dhs_data_tables.hhid_rechpc;\n",
        "DROP INDEX IF EXISTS dhs_data_tables.hpcidx_rechpc;\n",
        "DROP INDEX IF EXISTS dhs_data_tables.ALLIDX_rechpc;\n",
        "DROP INDEX IF EXISTS dhs_data_tables.TWOIDX_rechpc;"
       ]
      },
      {
       "output_type": "stream",
       "stream": "stdout",
       "text": [
        "\n",
        "CREATE INDEX surveyid_rechpc ON dhs_data_tables.\"RECHPC\"(surveyid);\n",
        "CREATE INDEX hhid_rechpc ON dhs_data_tables.\"RECHPC\"(hhid);\n",
        "CREATE INDEX hpcidx_rechpc ON dhs_data_tables.\"RECHPC\"(hpcidx);\n",
        "CREATE INDEX ALLIDX_rechpc ON dhs_data_tables.\"RECHPC\"(surveyid,hhid,hpcidx);\n",
        "CREATE INDEX TWOIDX_rechpc ON dhs_data_tables.\"RECHPC\"(surveyid,hhid);\n",
        "DROP INDEX IF EXISTS dhs_data_tables.surveyid_rechs;\n",
        "DROP INDEX IF EXISTS dhs_data_tables.hhid_rechs;\n",
        "DROP INDEX IF EXISTS dhs_data_tables.idxhs_rechs;\n",
        "DROP INDEX IF EXISTS dhs_data_tables.ALLIDX_rechs;\n",
        "DROP INDEX IF EXISTS dhs_data_tables.TWOIDX_rechs;"
       ]
      },
      {
       "output_type": "stream",
       "stream": "stdout",
       "text": [
        "\n",
        "CREATE INDEX surveyid_rechs ON dhs_data_tables.\"RECHS\"(surveyid);\n",
        "CREATE INDEX hhid_rechs ON dhs_data_tables.\"RECHS\"(hhid);\n",
        "CREATE INDEX idxhs_rechs ON dhs_data_tables.\"RECHS\"(idxhs);\n",
        "CREATE INDEX ALLIDX_rechs ON dhs_data_tables.\"RECHS\"(surveyid,hhid,idxhs);\n",
        "CREATE INDEX TWOIDX_rechs ON dhs_data_tables.\"RECHS\"(surveyid,hhid);\n",
        "DROP INDEX IF EXISTS dhs_data_tables.surveyid_recdv;\n",
        "DROP INDEX IF EXISTS dhs_data_tables.caseid_recdv;\n",
        "DROP INDEX IF EXISTS dhs_data_tables.ALLIDX_recdv;"
       ]
      },
      {
       "output_type": "stream",
       "stream": "stdout",
       "text": [
        "\n",
        "CREATE INDEX surveyid_recdv ON dhs_data_tables.\"RECDV\"(surveyid);\n",
        "CREATE INDEX caseid_recdv ON dhs_data_tables.\"RECDV\"(caseid);\n",
        "CREATE INDEX ALLIDX_recdv ON dhs_data_tables.\"RECDV\"(surveyid,caseid);\n",
        "DROP INDEX IF EXISTS dhs_data_tables.surveyid_rech10;\n",
        "DROP INDEX IF EXISTS dhs_data_tables.hhid_rech10;\n",
        "DROP INDEX IF EXISTS dhs_data_tables.ALLIDX_rech10;"
       ]
      },
      {
       "output_type": "stream",
       "stream": "stdout",
       "text": [
        "\n",
        "CREATE INDEX surveyid_rech10 ON dhs_data_tables.\"RECH10\"(surveyid);\n",
        "CREATE INDEX hhid_rech10 ON dhs_data_tables.\"RECH10\"(hhid);\n",
        "CREATE INDEX ALLIDX_rech10 ON dhs_data_tables.\"RECH10\"(surveyid,hhid);\n",
        "DROP INDEX IF EXISTS dhs_data_tables.surveyid_rech7d;\n",
        "DROP INDEX IF EXISTS dhs_data_tables.hhid_rech7d;\n",
        "DROP INDEX IF EXISTS dhs_data_tables.ALLIDX_rech7d;"
       ]
      },
      {
       "output_type": "stream",
       "stream": "stdout",
       "text": [
        "\n",
        "CREATE INDEX surveyid_rech7d ON dhs_data_tables.\"RECH7D\"(surveyid);\n",
        "CREATE INDEX hhid_rech7d ON dhs_data_tables.\"RECH7D\"(hhid);\n",
        "CREATE INDEX ALLIDX_rech7d ON dhs_data_tables.\"RECH7D\"(surveyid,hhid);\n",
        "DROP INDEX IF EXISTS dhs_data_tables.surveyid_rechcd;\n",
        "DROP INDEX IF EXISTS dhs_data_tables.hhid_rechcd;\n",
        "DROP INDEX IF EXISTS dhs_data_tables.ALLIDX_rechcd;"
       ]
      },
      {
       "output_type": "stream",
       "stream": "stdout",
       "text": [
        "\n",
        "CREATE INDEX surveyid_rechcd ON dhs_data_tables.\"RECHCD\"(surveyid);\n",
        "CREATE INDEX hhid_rechcd ON dhs_data_tables.\"RECHCD\"(hhid);\n",
        "CREATE INDEX ALLIDX_rechcd ON dhs_data_tables.\"RECHCD\"(surveyid,hhid);\n",
        "DROP INDEX IF EXISTS dhs_data_tables.surveyid_recg1;\n",
        "DROP INDEX IF EXISTS dhs_data_tables.caseid_recg1;\n",
        "DROP INDEX IF EXISTS dhs_data_tables.ALLIDX_recg1;"
       ]
      },
      {
       "output_type": "stream",
       "stream": "stdout",
       "text": [
        "\n",
        "CREATE INDEX surveyid_recg1 ON dhs_data_tables.\"RECG1\"(surveyid);\n",
        "CREATE INDEX caseid_recg1 ON dhs_data_tables.\"RECG1\"(caseid);\n",
        "CREATE INDEX ALLIDX_recg1 ON dhs_data_tables.\"RECG1\"(surveyid,caseid);\n",
        "DROP INDEX IF EXISTS dhs_data_tables.surveyid_rechmh2;\n",
        "DROP INDEX IF EXISTS dhs_data_tables.hhid_rechmh2;\n",
        "DROP INDEX IF EXISTS dhs_data_tables.hmhidx2_rechmh2;\n",
        "DROP INDEX IF EXISTS dhs_data_tables.ALLIDX_rechmh2;\n",
        "DROP INDEX IF EXISTS dhs_data_tables.TWOIDX_rechmh2;"
       ]
      },
      {
       "output_type": "stream",
       "stream": "stdout",
       "text": [
        "\n",
        "CREATE INDEX surveyid_rechmh2 ON dhs_data_tables.\"RECHMH2\"(surveyid);\n",
        "CREATE INDEX hhid_rechmh2 ON dhs_data_tables.\"RECHMH2\"(hhid);\n",
        "CREATE INDEX hmhidx2_rechmh2 ON dhs_data_tables.\"RECHMH2\"(hmhidx2);\n",
        "CREATE INDEX ALLIDX_rechmh2 ON dhs_data_tables.\"RECHMH2\"(surveyid,hhid,hmhidx2);\n",
        "CREATE INDEX TWOIDX_rechmh2 ON dhs_data_tables.\"RECHMH2\"(surveyid,hhid);\n",
        "DROP INDEX IF EXISTS dhs_data_tables.surveyid_rechml2;\n",
        "DROP INDEX IF EXISTS dhs_data_tables.hhid_rechml2;\n",
        "DROP INDEX IF EXISTS dhs_data_tables.hmlidx2_rechml2;\n",
        "DROP INDEX IF EXISTS dhs_data_tables.hm2idx_rechml2;\n",
        "DROP INDEX IF EXISTS dhs_data_tables.ALLIDX_rechml2;\n",
        "DROP INDEX IF EXISTS dhs_data_tables.TWOIDX_rechml2;"
       ]
      },
      {
       "output_type": "stream",
       "stream": "stdout",
       "text": [
        "\n",
        "CREATE INDEX surveyid_rechml2 ON dhs_data_tables.\"RECHML2\"(surveyid);\n",
        "CREATE INDEX hhid_rechml2 ON dhs_data_tables.\"RECHML2\"(hhid);\n",
        "CREATE INDEX hmlidx2_rechml2 ON dhs_data_tables.\"RECHML2\"(hmlidx2);\n",
        "CREATE INDEX hm2idx_rechml2 ON dhs_data_tables.\"RECHML2\"(hm2idx);\n",
        "CREATE INDEX ALLIDX_rechml2 ON dhs_data_tables.\"RECHML2\"(surveyid,hhid,hmlidx2,hm2idx);\n",
        "CREATE INDEX TWOIDX_rechml2 ON dhs_data_tables.\"RECHML2\"(surveyid,hhid,hmlidx2);\n",
        "DROP INDEX IF EXISTS dhs_data_tables.surveyid_hivrec;"
       ]
      },
      {
       "output_type": "stream",
       "stream": "stdout",
       "text": [
        "\n",
        "CREATE INDEX surveyid_hivrec ON dhs_data_tables.\"HIVREC\"(surveyid);\n",
        "DROP INDEX IF EXISTS dhs_data_tables.surveyid_rechmls;\n",
        "DROP INDEX IF EXISTS dhs_data_tables.hhid_rechmls;\n",
        "DROP INDEX IF EXISTS dhs_data_tables.shmlidx_rechmls;\n",
        "DROP INDEX IF EXISTS dhs_data_tables.ALLIDX_rechmls;\n",
        "DROP INDEX IF EXISTS dhs_data_tables.TWOIDX_rechmls;\n",
        "CREATE INDEX surveyid_rechmls ON dhs_data_tables.\"RECHMLS\"(surveyid);\n",
        "CREATE INDEX hhid_rechmls ON dhs_data_tables.\"RECHMLS\"(hhid);\n",
        "CREATE INDEX shmlidx_rechmls ON dhs_data_tables.\"RECHMLS\"(shmlidx);\n",
        "CREATE INDEX ALLIDX_rechmls ON dhs_data_tables.\"RECHMLS\"(surveyid,hhid,shmlidx);\n",
        "CREATE INDEX TWOIDX_rechmls ON dhs_data_tables.\"RECHMLS\"(surveyid,hhid);\n",
        "DROP INDEX IF EXISTS dhs_data_tables.surveyid_rechms;\n",
        "DROP INDEX IF EXISTS dhs_data_tables.hhid_rechms;\n",
        "DROP INDEX IF EXISTS dhs_data_tables.shmlidx2_rechms;\n",
        "DROP INDEX IF EXISTS dhs_data_tables.ALLIDX_rechms;\n",
        "DROP INDEX IF EXISTS dhs_data_tables.TWOIDX_rechms;"
       ]
      },
      {
       "output_type": "stream",
       "stream": "stdout",
       "text": [
        "\n",
        "CREATE INDEX surveyid_rechms ON dhs_data_tables.\"RECHMS\"(surveyid);\n",
        "CREATE INDEX hhid_rechms ON dhs_data_tables.\"RECHMS\"(hhid);\n",
        "CREATE INDEX shmlidx2_rechms ON dhs_data_tables.\"RECHMS\"(shmlidx2);\n",
        "CREATE INDEX ALLIDX_rechms ON dhs_data_tables.\"RECHMS\"(surveyid,hhid,shmlidx2);\n",
        "CREATE INDEX TWOIDX_rechms ON dhs_data_tables.\"RECHMS\"(surveyid,hhid);\n",
        "DROP INDEX IF EXISTS dhs_data_tables.surveyid_rechmt;\n",
        "DROP INDEX IF EXISTS dhs_data_tables.hhid_rechmt;\n",
        "DROP INDEX IF EXISTS dhs_data_tables.ALLIDX_rechmt;"
       ]
      },
      {
       "output_type": "stream",
       "stream": "stdout",
       "text": [
        "\n",
        "CREATE INDEX surveyid_rechmt ON dhs_data_tables.\"RECHMT\"(surveyid);\n",
        "CREATE INDEX hhid_rechmt ON dhs_data_tables.\"RECHMT\"(hhid);\n",
        "CREATE INDEX ALLIDX_rechmt ON dhs_data_tables.\"RECHMT\"(surveyid,hhid);\n",
        "DROP INDEX IF EXISTS dhs_data_tables.surveyid_rechmw;\n",
        "DROP INDEX IF EXISTS dhs_data_tables.hhid_rechmw;\n",
        "DROP INDEX IF EXISTS dhs_data_tables.idxhmw_rechmw;\n",
        "DROP INDEX IF EXISTS dhs_data_tables.ALLIDX_rechmw;\n",
        "DROP INDEX IF EXISTS dhs_data_tables.TWOIDX_rechmw;\n",
        "CREATE INDEX surveyid_rechmw ON dhs_data_tables.\"RECHMW\"(surveyid);\n",
        "CREATE INDEX hhid_rechmw ON dhs_data_tables.\"RECHMW\"(hhid);\n",
        "CREATE INDEX idxhmw_rechmw ON dhs_data_tables.\"RECHMW\"(idxhmw);\n",
        "CREATE INDEX ALLIDX_rechmw ON dhs_data_tables.\"RECHMW\"(surveyid,hhid,idxhmw);\n",
        "CREATE INDEX TWOIDX_rechmw ON dhs_data_tables.\"RECHMW\"(surveyid,hhid);\n",
        "DROP INDEX IF EXISTS dhs_data_tables.surveyid_rechov;\n",
        "DROP INDEX IF EXISTS dhs_data_tables.hhid_rechov;\n",
        "DROP INDEX IF EXISTS dhs_data_tables.hovidx_rechov;\n",
        "DROP INDEX IF EXISTS dhs_data_tables.ALLIDX_rechov;\n",
        "DROP INDEX IF EXISTS dhs_data_tables.TWOIDX_rechov;"
       ]
      },
      {
       "output_type": "stream",
       "stream": "stdout",
       "text": [
        "\n",
        "CREATE INDEX surveyid_rechov ON dhs_data_tables.\"RECHOV\"(surveyid);\n",
        "CREATE INDEX hhid_rechov ON dhs_data_tables.\"RECHOV\"(hhid);\n",
        "CREATE INDEX hovidx_rechov ON dhs_data_tables.\"RECHOV\"(hovidx);\n",
        "CREATE INDEX ALLIDX_rechov ON dhs_data_tables.\"RECHOV\"(surveyid,hhid,hovidx);\n",
        "CREATE INDEX TWOIDX_rechov ON dhs_data_tables.\"RECHOV\"(surveyid,hhid);\n",
        "DROP INDEX IF EXISTS dhs_data_tables.surveyid_rechsa;\n",
        "DROP INDEX IF EXISTS dhs_data_tables.hhid_rechsa;\n",
        "DROP INDEX IF EXISTS dhs_data_tables.ALLIDX_rechsa;"
       ]
      },
      {
       "output_type": "stream",
       "stream": "stdout",
       "text": [
        "\n",
        "CREATE INDEX surveyid_rechsa ON dhs_data_tables.\"RECHSA\"(surveyid);\n",
        "CREATE INDEX hhid_rechsa ON dhs_data_tables.\"RECHSA\"(hhid);\n",
        "CREATE INDEX ALLIDX_rechsa ON dhs_data_tables.\"RECHSA\"(surveyid,hhid);\n",
        "DROP INDEX IF EXISTS dhs_data_tables.surveyid_rechsk;\n",
        "DROP INDEX IF EXISTS dhs_data_tables.hhid_rechsk;\n",
        "DROP INDEX IF EXISTS dhs_data_tables.hskidx_rechsk;\n",
        "DROP INDEX IF EXISTS dhs_data_tables.ALLIDX_rechsk;\n",
        "DROP INDEX IF EXISTS dhs_data_tables.TWOIDX_rechsk;"
       ]
      },
      {
       "output_type": "stream",
       "stream": "stdout",
       "text": [
        "\n",
        "CREATE INDEX surveyid_rechsk ON dhs_data_tables.\"RECHSK\"(surveyid);\n",
        "CREATE INDEX hhid_rechsk ON dhs_data_tables.\"RECHSK\"(hhid);\n",
        "CREATE INDEX hskidx_rechsk ON dhs_data_tables.\"RECHSK\"(hskidx);\n",
        "CREATE INDEX ALLIDX_rechsk ON dhs_data_tables.\"RECHSK\"(surveyid,hhid,hskidx);\n",
        "CREATE INDEX TWOIDX_rechsk ON dhs_data_tables.\"RECHSK\"(surveyid,hhid);\n",
        "DROP INDEX IF EXISTS dhs_data_tables.surveyid_rechw;\n",
        "DROP INDEX IF EXISTS dhs_data_tables.hhid_rechw;\n",
        "DROP INDEX IF EXISTS dhs_data_tables.ALLIDX_rechw;"
       ]
      },
      {
       "output_type": "stream",
       "stream": "stdout",
       "text": [
        "\n",
        "CREATE INDEX surveyid_rechw ON dhs_data_tables.\"RECHW\"(surveyid);\n",
        "CREATE INDEX hhid_rechw ON dhs_data_tables.\"RECHW\"(hhid);\n",
        "CREATE INDEX ALLIDX_rechw ON dhs_data_tables.\"RECHW\"(surveyid,hhid);\n",
        "DROP INDEX IF EXISTS dhs_data_tables.surveyid_rechyt;\n",
        "DROP INDEX IF EXISTS dhs_data_tables.hhid_rechyt;\n",
        "DROP INDEX IF EXISTS dhs_data_tables.hyidx_rechyt;\n",
        "DROP INDEX IF EXISTS dhs_data_tables.ALLIDX_rechyt;\n",
        "DROP INDEX IF EXISTS dhs_data_tables.TWOIDX_rechyt;"
       ]
      },
      {
       "output_type": "stream",
       "stream": "stdout",
       "text": [
        "\n",
        "CREATE INDEX surveyid_rechyt ON dhs_data_tables.\"RECHYT\"(surveyid);\n",
        "CREATE INDEX hhid_rechyt ON dhs_data_tables.\"RECHYT\"(hhid);\n",
        "CREATE INDEX hyidx_rechyt ON dhs_data_tables.\"RECHYT\"(hyidx);\n",
        "CREATE INDEX ALLIDX_rechyt ON dhs_data_tables.\"RECHYT\"(surveyid,hhid,hyidx);\n",
        "CREATE INDEX TWOIDX_rechyt ON dhs_data_tables.\"RECHYT\"(surveyid,hhid);\n",
        "DROP INDEX IF EXISTS dhs_data_tables.surveyid_recml;\n",
        "DROP INDEX IF EXISTS dhs_data_tables.caseid_recml;\n",
        "DROP INDEX IF EXISTS dhs_data_tables.idxml_recml;\n",
        "DROP INDEX IF EXISTS dhs_data_tables.ALLIDX_recml;\n",
        "DROP INDEX IF EXISTS dhs_data_tables.TWOIDX_recml;\n",
        "CREATE INDEX surveyid_recml ON dhs_data_tables.\"RECML\"(surveyid);\n",
        "CREATE INDEX caseid_recml ON dhs_data_tables.\"RECML\"(caseid);\n",
        "CREATE INDEX idxml_recml ON dhs_data_tables.\"RECML\"(idxml);\n",
        "CREATE INDEX ALLIDX_recml ON dhs_data_tables.\"RECML\"(surveyid,caseid,idxml);\n",
        "CREATE INDEX TWOIDX_recml ON dhs_data_tables.\"RECML\"(surveyid,caseid);\n",
        "DROP INDEX IF EXISTS dhs_data_tables.surveyid_rec92;\n",
        "DROP INDEX IF EXISTS dhs_data_tables.caseid_rec92;\n",
        "DROP INDEX IF EXISTS dhs_data_tables.idx92_rec92;\n",
        "DROP INDEX IF EXISTS dhs_data_tables.sbidx_rec92;\n",
        "DROP INDEX IF EXISTS dhs_data_tables.bidx92_rec92;\n",
        "DROP INDEX IF EXISTS dhs_data_tables.idxbh_rec92;\n",
        "DROP INDEX IF EXISTS dhs_data_tables.ALLIDX_rec92;\n",
        "DROP INDEX IF EXISTS dhs_data_tables.TWOIDX_rec92;"
       ]
      },
      {
       "output_type": "stream",
       "stream": "stdout",
       "text": [
        "\n",
        "CREATE INDEX surveyid_rec92 ON dhs_data_tables.\"REC92\"(surveyid);\n",
        "CREATE INDEX caseid_rec92 ON dhs_data_tables.\"REC92\"(caseid);\n",
        "CREATE INDEX idx92_rec92 ON dhs_data_tables.\"REC92\"(idx92);\n",
        "CREATE INDEX sbidx_rec92 ON dhs_data_tables.\"REC92\"(sbidx);\n",
        "CREATE INDEX bidx92_rec92 ON dhs_data_tables.\"REC92\"(bidx92);\n",
        "CREATE INDEX idxbh_rec92 ON dhs_data_tables.\"REC92\"(idxbh);\n",
        "CREATE INDEX ALLIDX_rec92 ON dhs_data_tables.\"REC92\"(surveyid,caseid,idx92,sbidx,bidx92,idxbh);\n",
        "CREATE INDEX TWOIDX_rec92 ON dhs_data_tables.\"REC92\"(surveyid,caseid,idx92,sbidx,bidx92);\n",
        "DROP INDEX IF EXISTS dhs_data_tables.surveyid_rechml;\n",
        "DROP INDEX IF EXISTS dhs_data_tables.hhid_rechml;\n",
        "DROP INDEX IF EXISTS dhs_data_tables.hmlidx_rechml;\n",
        "DROP INDEX IF EXISTS dhs_data_tables.ALLIDX_rechml;\n",
        "DROP INDEX IF EXISTS dhs_data_tables.TWOIDX_rechml;"
       ]
      },
      {
       "output_type": "stream",
       "stream": "stdout",
       "text": [
        "\n",
        "CREATE INDEX surveyid_rechml ON dhs_data_tables.\"RECHML\"(surveyid);\n",
        "CREATE INDEX hhid_rechml ON dhs_data_tables.\"RECHML\"(hhid);\n",
        "CREATE INDEX hmlidx_rechml ON dhs_data_tables.\"RECHML\"(hmlidx);\n",
        "CREATE INDEX ALLIDX_rechml ON dhs_data_tables.\"RECHML\"(surveyid,hhid,hmlidx);\n",
        "CREATE INDEX TWOIDX_rechml ON dhs_data_tables.\"RECHML\"(surveyid,hhid);\n",
        "DROP INDEX IF EXISTS dhs_data_tables.surveyid_rec41;\n",
        "DROP INDEX IF EXISTS dhs_data_tables.caseid_rec41;\n",
        "DROP INDEX IF EXISTS dhs_data_tables.midx_rec41;\n",
        "DROP INDEX IF EXISTS dhs_data_tables.ALLIDX_rec41;\n",
        "DROP INDEX IF EXISTS dhs_data_tables.TWOIDX_rec41;"
       ]
      },
      {
       "output_type": "stream",
       "stream": "stdout",
       "text": [
        "\n",
        "CREATE INDEX surveyid_rec41 ON dhs_data_tables.\"REC41\"(surveyid);\n",
        "CREATE INDEX caseid_rec41 ON dhs_data_tables.\"REC41\"(caseid);\n",
        "CREATE INDEX midx_rec41 ON dhs_data_tables.\"REC41\"(midx);\n",
        "CREATE INDEX ALLIDX_rec41 ON dhs_data_tables.\"REC41\"(surveyid,caseid,midx);\n",
        "CREATE INDEX TWOIDX_rec41 ON dhs_data_tables.\"REC41\"(surveyid,caseid);\n",
        "DROP INDEX IF EXISTS dhs_data_tables.surveyid_recws;\n",
        "DROP INDEX IF EXISTS dhs_data_tables.caseid_recws;\n",
        "DROP INDEX IF EXISTS dhs_data_tables.ALLIDX_recws;"
       ]
      },
      {
       "output_type": "stream",
       "stream": "stdout",
       "text": [
        "\n",
        "CREATE INDEX surveyid_recws ON dhs_data_tables.\"RECWS\"(surveyid);\n",
        "CREATE INDEX caseid_recws ON dhs_data_tables.\"RECWS\"(caseid);\n",
        "CREATE INDEX ALLIDX_recws ON dhs_data_tables.\"RECWS\"(surveyid,caseid);\n",
        "DROP INDEX IF EXISTS dhs_data_tables.surveyid_rec32;\n",
        "DROP INDEX IF EXISTS dhs_data_tables.caseid_rec32;\n",
        "DROP INDEX IF EXISTS dhs_data_tables.ALLIDX_rec32;"
       ]
      },
      {
       "output_type": "stream",
       "stream": "stdout",
       "text": [
        "\n",
        "CREATE INDEX surveyid_rec32 ON dhs_data_tables.\"REC32\"(surveyid);\n",
        "CREATE INDEX caseid_rec32 ON dhs_data_tables.\"REC32\"(caseid);\n",
        "CREATE INDEX ALLIDX_rec32 ON dhs_data_tables.\"REC32\"(surveyid,caseid);\n",
        "DROP INDEX IF EXISTS dhs_data_tables.surveyid_rec85;\n",
        "DROP INDEX IF EXISTS dhs_data_tables.caseid_rec85;\n",
        "DROP INDEX IF EXISTS dhs_data_tables.ALLIDX_rec85;"
       ]
      },
      {
       "output_type": "stream",
       "stream": "stdout",
       "text": [
        "\n",
        "CREATE INDEX surveyid_rec85 ON dhs_data_tables.\"REC85\"(surveyid);\n",
        "CREATE INDEX caseid_rec85 ON dhs_data_tables.\"REC85\"(caseid);\n",
        "CREATE INDEX ALLIDX_rec85 ON dhs_data_tables.\"REC85\"(surveyid,caseid);\n",
        "DROP INDEX IF EXISTS dhs_data_tables.surveyid_rech5;\n",
        "DROP INDEX IF EXISTS dhs_data_tables.hhid_rech5;\n",
        "DROP INDEX IF EXISTS dhs_data_tables.idxh5_rech5;\n",
        "DROP INDEX IF EXISTS dhs_data_tables.ALLIDX_rech5;\n",
        "DROP INDEX IF EXISTS dhs_data_tables.TWOIDX_rech5;"
       ]
      },
      {
       "output_type": "stream",
       "stream": "stdout",
       "text": [
        "\n",
        "CREATE INDEX surveyid_rech5 ON dhs_data_tables.\"RECH5\"(surveyid);\n",
        "CREATE INDEX hhid_rech5 ON dhs_data_tables.\"RECH5\"(hhid);\n",
        "CREATE INDEX idxh5_rech5 ON dhs_data_tables.\"RECH5\"(idxh5);\n",
        "CREATE INDEX ALLIDX_rech5 ON dhs_data_tables.\"RECH5\"(surveyid,hhid,idxh5);\n",
        "CREATE INDEX TWOIDX_rech5 ON dhs_data_tables.\"RECH5\"(surveyid,hhid);\n",
        "DROP INDEX IF EXISTS dhs_data_tables.surveyid_rec99;\n",
        "DROP INDEX IF EXISTS dhs_data_tables.caseid_rec99;\n",
        "DROP INDEX IF EXISTS dhs_data_tables.midx99_rec99;\n",
        "DROP INDEX IF EXISTS dhs_data_tables.idx99_rec99;\n",
        "DROP INDEX IF EXISTS dhs_data_tables.bidx99_rec99;\n",
        "DROP INDEX IF EXISTS dhs_data_tables.ALLIDX_rec99;\n",
        "DROP INDEX IF EXISTS dhs_data_tables.TWOIDX_rec99;"
       ]
      },
      {
       "output_type": "stream",
       "stream": "stdout",
       "text": [
        "\n",
        "CREATE INDEX surveyid_rec99 ON dhs_data_tables.\"REC99\"(surveyid);\n",
        "CREATE INDEX caseid_rec99 ON dhs_data_tables.\"REC99\"(caseid);\n",
        "CREATE INDEX midx99_rec99 ON dhs_data_tables.\"REC99\"(midx99);\n",
        "CREATE INDEX idx99_rec99 ON dhs_data_tables.\"REC99\"(idx99);\n",
        "CREATE INDEX bidx99_rec99 ON dhs_data_tables.\"REC99\"(bidx99);\n",
        "CREATE INDEX ALLIDX_rec99 ON dhs_data_tables.\"REC99\"(surveyid,caseid,midx99,idx99,bidx99);\n",
        "CREATE INDEX TWOIDX_rec99 ON dhs_data_tables.\"REC99\"(surveyid,caseid,midx99,idx99);\n",
        "DROP INDEX IF EXISTS dhs_data_tables.surveyid_rech7;\n",
        "DROP INDEX IF EXISTS dhs_data_tables.hhid_rech7;\n",
        "DROP INDEX IF EXISTS dhs_data_tables.hmlidx_rech7;\n",
        "DROP INDEX IF EXISTS dhs_data_tables.idxh7_rech7;\n",
        "DROP INDEX IF EXISTS dhs_data_tables.shidxb_rech7;\n",
        "DROP INDEX IF EXISTS dhs_data_tables.ALLIDX_rech7;\n",
        "DROP INDEX IF EXISTS dhs_data_tables.TWOIDX_rech7;"
       ]
      },
      {
       "output_type": "stream",
       "stream": "stdout",
       "text": [
        "\n",
        "CREATE INDEX surveyid_rech7 ON dhs_data_tables.\"RECH7\"(surveyid);\n",
        "CREATE INDEX hhid_rech7 ON dhs_data_tables.\"RECH7\"(hhid);\n",
        "CREATE INDEX hmlidx_rech7 ON dhs_data_tables.\"RECH7\"(hmlidx);\n",
        "CREATE INDEX idxh7_rech7 ON dhs_data_tables.\"RECH7\"(idxh7);\n",
        "CREATE INDEX shidxb_rech7 ON dhs_data_tables.\"RECH7\"(shidxb);\n",
        "CREATE INDEX ALLIDX_rech7 ON dhs_data_tables.\"RECH7\"(surveyid,hhid,hmlidx,idxh7,shidxb);\n",
        "CREATE INDEX TWOIDX_rech7 ON dhs_data_tables.\"RECH7\"(surveyid,hhid,hmlidx,idxh7);\n",
        "DROP INDEX IF EXISTS dhs_data_tables.surveyid_rech9;\n",
        "DROP INDEX IF EXISTS dhs_data_tables.hhid_rech9;\n",
        "DROP INDEX IF EXISTS dhs_data_tables.idxh9_rech9;\n",
        "DROP INDEX IF EXISTS dhs_data_tables.shidx9_rech9;\n",
        "DROP INDEX IF EXISTS dhs_data_tables.ALLIDX_rech9;\n",
        "DROP INDEX IF EXISTS dhs_data_tables.TWOIDX_rech9;"
       ]
      },
      {
       "output_type": "stream",
       "stream": "stdout",
       "text": [
        "\n",
        "CREATE INDEX surveyid_rech9 ON dhs_data_tables.\"RECH9\"(surveyid);\n",
        "CREATE INDEX hhid_rech9 ON dhs_data_tables.\"RECH9\"(hhid);\n",
        "CREATE INDEX idxh9_rech9 ON dhs_data_tables.\"RECH9\"(idxh9);\n",
        "CREATE INDEX shidx9_rech9 ON dhs_data_tables.\"RECH9\"(shidx9);\n",
        "CREATE INDEX ALLIDX_rech9 ON dhs_data_tables.\"RECH9\"(surveyid,hhid,idxh9,shidx9);\n",
        "CREATE INDEX TWOIDX_rech9 ON dhs_data_tables.\"RECH9\"(surveyid,hhid,idxh9);\n",
        "DROP INDEX IF EXISTS dhs_data_tables.surveyid_rechg2;\n",
        "DROP INDEX IF EXISTS dhs_data_tables.hhid_rechg2;\n",
        "DROP INDEX IF EXISTS dhs_data_tables.ALLIDX_rechg2;"
       ]
      },
      {
       "output_type": "stream",
       "stream": "stdout",
       "text": [
        "\n",
        "CREATE INDEX surveyid_rechg2 ON dhs_data_tables.\"RECHG2\"(surveyid);\n",
        "CREATE INDEX hhid_rechg2 ON dhs_data_tables.\"RECHG2\"(hhid);\n",
        "CREATE INDEX ALLIDX_rechg2 ON dhs_data_tables.\"RECHG2\"(surveyid,hhid);\n"
       ]
      }
     ],
     "prompt_number": 18
    },
    {
     "cell_type": "code",
     "collapsed": false,
     "input": [
      "conn.rollback()"
     ],
     "language": "python",
     "metadata": {},
     "outputs": [],
     "prompt_number": 22
    },
    {
     "cell_type": "code",
     "collapsed": false,
     "input": [
      "conn.commit()"
     ],
     "language": "python",
     "metadata": {},
     "outputs": [],
     "prompt_number": 19
    },
    {
     "cell_type": "code",
     "collapsed": false,
     "input": [
      "conn.close()"
     ],
     "language": "python",
     "metadata": {},
     "outputs": [],
     "prompt_number": 20
    },
    {
     "cell_type": "code",
     "collapsed": false,
     "input": [],
     "language": "python",
     "metadata": {},
     "outputs": []
    }
   ],
   "metadata": {}
  }
 ]
}