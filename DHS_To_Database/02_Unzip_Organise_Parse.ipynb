{
 "cells": [
  {
   "cell_type": "code",
   "execution_count": 1,
   "metadata": {},
   "outputs": [],
   "source": [
    "import lib02_Unzip_And_Organise_Downloads"
   ]
  },
  {
   "cell_type": "markdown",
   "metadata": {},
   "source": [
    "Either provide:\n",
    "\n",
    "a) The path to a folder in which you have manually downloaded some survey data zip files. In this case, the files need to have been manually renamed to prepend the numeric survey id followed by a dot; for example `SLIR7A.ZIP` needs to have been renamed to `545.SLIR7A.ZIP`\n",
    "\n",
    "or \n",
    "\n",
    "b) the path to a download URLs text file from the DHS batch download utility (see [here](https://dhsprogram.com/data/Access-Instructions.cfm#multiplesurveys) for info on this). The files it specified should already have been downloaded using a batch download extension as described in the video, into the same folder as the provided URLs text file.\n",
    "\n",
    "\n",
    "You also need to provide a path to a staging folder. If they do not already exist, subdirectories named `downloaded`, `parsed_specs`, and `tables` will be created. \n",
    "\n",
    "The zip files will be extracted to subfolders of `downloaded` named according to the numeric survey id.\n",
    "\n",
    "The DCF specifications will be extracted to the `parsed_specs` folder, a total of 3 CSV files per survey\n",
    "\n",
    "The data tables will be extracted to the `tables` folder, one CSV file per table per survey.\n",
    "\n",
    "The code will check whether a given file has already been unzipped and parsed so it is safe, and recommended, to run with the same staging folder every time that can contain an archive of all previous extractions.\n",
    "\n",
    "## option a: parsing manually downloaded files"
   ]
  },
  {
   "cell_type": "code",
   "execution_count": null,
   "metadata": {
    "scrolled": true
   },
   "outputs": [],
   "source": [
    "manual_download_folder = '/mnt/d/InformalCities/DHS_Updates/tmp/'\n",
    "\n",
    "lib02_Unzip_And_Organise_Downloads.run(downloads_file_or_folder=manual_download_folder,\n",
    "                                       staging_folder='/mnt/d/InformalCities/DHS_Updates/staging/',\n",
    "                                       parse_dcfs=True,\n",
    "                                       parse_data=True\n",
    "                                      )"
   ]
  },
  {
   "cell_type": "markdown",
   "metadata": {},
   "source": [
    "## option b: parsing batch downloaded files"
   ]
  },
  {
   "cell_type": "code",
   "execution_count": null,
   "metadata": {},
   "outputs": [],
   "source": [
    "download_urls_file = '/mnt/d/InformalCities/DHS_Updates/dhs_hierarchical/download_urls.txt'\n",
    "lib02_Unzip_And_Organise_Downloads.run(downloads_file_or_folder=download_urls_file,\n",
    "                                      staging_folder='/mnt/d/InformalCities/DHS_Updates/staging/',\n",
    "                                      parse_dcfs=True,\n",
    "                                      parse_data=True)"
   ]
  }
 ],
 "metadata": {
  "kernelspec": {
   "display_name": "Python 3",
   "language": "python",
   "name": "python3"
  },
  "language_info": {
   "codemirror_mode": {
    "name": "ipython",
    "version": 3
   },
   "file_extension": ".py",
   "mimetype": "text/x-python",
   "name": "python",
   "nbconvert_exporter": "python",
   "pygments_lexer": "ipython3",
   "version": "3.8.6"
  }
 },
 "nbformat": 4,
 "nbformat_minor": 4
}
