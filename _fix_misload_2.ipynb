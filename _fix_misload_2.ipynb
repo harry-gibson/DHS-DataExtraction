{
 "cells": [
  {
   "cell_type": "code",
   "execution_count": 39,
   "metadata": {},
   "outputs": [],
   "source": [
    "staging_folder = \"/mnt/c/Users/harry/OneDrive - Nexus365/Informal_Cities/DHS_Data_And_Prep/Staging\" \n",
    "downloads_folder = os.path.join(staging_folder, \"downloaded\")\n",
    "parsed_folder = os.path.join(staging_folder, \"parsed_specs\")\n",
    "tables_folder = os.path.join(staging_folder, \"tables\")\n"
   ]
  },
  {
   "cell_type": "code",
   "execution_count": 2,
   "metadata": {},
   "outputs": [],
   "source": [
    "import os"
   ]
  },
  {
   "cell_type": "code",
   "execution_count": 24,
   "metadata": {},
   "outputs": [
    {
     "name": "stdout",
     "output_type": "stream",
     "text": [
      "Missing! : 156.CHLDLINE.ZIP\n",
      "Missing! : 264.CASTE.ZIP\n",
      "Missing! : 457.SNIR6R.ZIP\n",
      "Missing! : 457.SNMR6R.ZIP\n",
      "Missing! : 457.SNMR70.ZIP\n",
      "Missing! : 524.SNIR7I.ZIP\n",
      "Missing! : 524.SNIRG0.ZIP\n",
      "Missing! : 524.SNMR7I.ZIP\n",
      "Missing! : 524.SNMRG0.ZIP\n"
     ]
    }
   ],
   "source": [
    "for root,dirs,files in os.walk(downloads_folder):\n",
    "    for fn in files:\n",
    "        if fn.lower().endswith(\".zip\"):\n",
    "            this_dir_files = [f.lower() for f in os.listdir(root)]\n",
    "            dcf_file = os.path.basename(fn).lower().replace(\".zip\",\".dcf\")\n",
    "            if dcf_file in this_dir_files:\n",
    "                pass\n",
    "                #print(\"OK: \"+fn)\n",
    "            elif \"GE\" in fn:\n",
    "                pass\n",
    "                #print(\"Shapefile: \" +fn)\n",
    "            else:\n",
    "                print(\"Missing! : \"+fn)\n",
    "            "
   ]
  },
  {
   "cell_type": "code",
   "execution_count": 32,
   "metadata": {},
   "outputs": [],
   "source": [
    "import lib02_Unzip_And_Organise_Downloads\n",
    "from cspro_parser.DCF_Parser import DCF_Parser\n",
    "from cspro_parser.DAT_Parser import parse_dat_file"
   ]
  },
  {
   "cell_type": "code",
   "execution_count": 31,
   "metadata": {},
   "outputs": [
    {
     "name": "stdout",
     "output_type": "stream",
     "text": [
      "SNMR7I.DAT -> /mnt/c/Users/harry/OneDrive - Nexus365/Informal_Cities/DHS_Data_And_Prep/Staging/downloaded/524/524.SNMR7I.DAT\n",
      "SNMR7I.DCF -> /mnt/c/Users/harry/OneDrive - Nexus365/Informal_Cities/DHS_Data_And_Prep/Staging/downloaded/524/524.SNMR7I.DCF\n",
      "SNMR7I.FRQ -> /mnt/c/Users/harry/OneDrive - Nexus365/Informal_Cities/DHS_Data_And_Prep/Staging/downloaded/524/524.SNMR7I.FRQ\n",
      "SNMR7I.FRW -> /mnt/c/Users/harry/OneDrive - Nexus365/Informal_Cities/DHS_Data_And_Prep/Staging/downloaded/524/524.SNMR7I.FRW\n",
      "SNMR7I.MAP -> /mnt/c/Users/harry/OneDrive - Nexus365/Informal_Cities/DHS_Data_And_Prep/Staging/downloaded/524/524.SNMR7I.MAP\n"
     ]
    },
    {
     "data": {
      "text/plain": [
       "['/mnt/c/Users/harry/OneDrive - Nexus365/Informal_Cities/DHS_Data_And_Prep/Staging/downloaded/524/524.SNIR7I.DOC',\n",
       " '/mnt/c/Users/harry/OneDrive - Nexus365/Informal_Cities/DHS_Data_And_Prep/Staging/downloaded/524/524.SNMR7I.DAT',\n",
       " '/mnt/c/Users/harry/OneDrive - Nexus365/Informal_Cities/DHS_Data_And_Prep/Staging/downloaded/524/524.SNMR7I.DCF',\n",
       " '/mnt/c/Users/harry/OneDrive - Nexus365/Informal_Cities/DHS_Data_And_Prep/Staging/downloaded/524/524.SNMR7I.FRQ',\n",
       " '/mnt/c/Users/harry/OneDrive - Nexus365/Informal_Cities/DHS_Data_And_Prep/Staging/downloaded/524/524.SNMR7I.FRW',\n",
       " '/mnt/c/Users/harry/OneDrive - Nexus365/Informal_Cities/DHS_Data_And_Prep/Staging/downloaded/524/524.SNMR7I.MAP']"
      ]
     },
     "execution_count": 31,
     "metadata": {},
     "output_type": "execute_result"
    }
   ],
   "source": [
    "lib02_Unzip_And_Organise_Downloads.unzip_and_sort(os.path.join(downloads_folder, '524', '524.SNMR7I.ZIP'),'524', downloads_folder)"
   ]
  },
  {
   "cell_type": "code",
   "execution_count": 38,
   "metadata": {},
   "outputs": [
    {
     "name": "stdout",
     "output_type": "stream",
     "text": [
      "Parsed 27442 lines into 1685 items\n"
     ]
    }
   ],
   "source": [
    "parser = DCF_Parser('/mnt/c/Users/harry/OneDrive - Nexus365/Informal_Cities/DHS_Data_And_Prep/Staging/downloaded/524/524.SNIR7I.DCF',\n",
    "                    parsed_folder)\n",
    "if parser.done():\n",
    "    print(f\"{dcf_file} is already done, skipping\")\n",
    "else:\n",
    "    parser.parse()\n",
    "    parser.write()"
   ]
  },
  {
   "cell_type": "code",
   "execution_count": 44,
   "metadata": {},
   "outputs": [
    {
     "name": "stdout",
     "output_type": "stream",
     "text": [
      "Parsing /mnt/c/Users/harry/OneDrive - Nexus365/Informal_Cities/DHS_Data_And_Prep/Staging/downloaded/524/524.SNIR7I.DAT\n",
      "No rows were found for record type H05 in file 524.SNIR7I despite DCF specification\n"
     ]
    }
   ],
   "source": [
    "fn = '/mnt/c/Users/harry/OneDrive - Nexus365/Informal_Cities/DHS_Data_And_Prep/Staging/downloaded/524/524.SNIR7I.DAT'\n",
    "parse_dat_file(fn,\n",
    "               os.path.join(parsed_folder, os.path.basename(fn).replace('.DAT','.FlatRecordSpec.csv')), \n",
    "               tables_folder)"
   ]
  },
  {
   "cell_type": "code",
   "execution_count": null,
   "metadata": {},
   "outputs": [],
   "source": []
  }
 ],
 "metadata": {
  "kernelspec": {
   "display_name": "Python 3",
   "language": "python",
   "name": "python3"
  },
  "language_info": {
   "codemirror_mode": {
    "name": "ipython",
    "version": 3
   },
   "file_extension": ".py",
   "mimetype": "text/x-python",
   "name": "python",
   "nbconvert_exporter": "python",
   "pygments_lexer": "ipython3",
   "version": "3.8.6"
  }
 },
 "nbformat": 4,
 "nbformat_minor": 4
}
