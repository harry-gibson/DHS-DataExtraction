{
 "metadata": {
  "name": "",
  "signature": "sha256:62edca36bb5815f40e5164f51a42c328ebe4c5f2b54e9b0a099aaa08efaad91e"
 },
 "nbformat": 3,
 "nbformat_minor": 0,
 "worksheets": [
  {
   "cells": [
    {
     "cell_type": "heading",
     "level": 3,
     "metadata": {},
     "source": [
      "Simple script to go through all the REC* tables in the DHS database and add indexes to all the key columns "
     ]
    },
    {
     "cell_type": "code",
     "collapsed": false,
     "input": [
      "import sqlite3"
     ],
     "language": "python",
     "metadata": {},
     "outputs": []
    },
    {
     "cell_type": "code",
     "collapsed": false,
     "input": [
      "dbconn = sqlite3.connect(r'C:\\Users\\zool1301\\Documents\\DHS\\DataExtraction\\General\\All_DHS_Spatialite.db')\n",
      "dbconn.text_factory=bytes\n",
      "crs = dbconn.cursor()"
     ],
     "language": "python",
     "metadata": {},
     "outputs": []
    },
    {
     "cell_type": "code",
     "collapsed": false,
     "input": [
      "crs.execute(\"SELECT name FROM sqlite_master where name like 'REC%' UNION SELECT name FROM sqlite_temp_master where name like 'REC%'; \")"
     ],
     "language": "python",
     "metadata": {},
     "outputs": []
    },
    {
     "cell_type": "code",
     "collapsed": false,
     "input": [
      "crs.description"
     ],
     "language": "python",
     "metadata": {},
     "outputs": []
    },
    {
     "cell_type": "code",
     "collapsed": false,
     "input": [
      "tblNames = [row[0] for row in crs]\n"
     ],
     "language": "python",
     "metadata": {},
     "outputs": []
    },
    {
     "cell_type": "heading",
     "level": 6,
     "metadata": {},
     "source": [
      "Identifying the index columns is based on knowledge of the content of the database: they all have \"id\" in the names, in lowercase"
     ]
    },
    {
     "cell_type": "code",
     "collapsed": false,
     "input": [
      "runIt = 0\n",
      "allUpper = 1\n",
      "replaceExisting = 0"
     ],
     "language": "python",
     "metadata": {},
     "outputs": [],
     "prompt_number": 13
    },
    {
     "cell_type": "code",
     "collapsed": false,
     "input": [
      "cleanSQLTemplate = \"DROP INDEX IF EXISTS dhs_data_tables.{0};\"\n",
      "idxSQLTemplate = \"CREATE INDEX {0} ON {1}({2});\"\n",
      "idxNameTemplate = \"{0}_{1}\"\n",
      "allSQL = []\n",
      "# Create an index for each column with \"id\" in the title, and if there \n",
      "# is more than one (e.g. caseid, bidx) then also create a composite index\n",
      "for tblName in tblNames:\n",
      "    print tblName\n",
      "    crs.execute('SELECT * FROM dhs_data_tables.\"{0}\" LIMIT 1'.format(tblName))\n",
      "    \n",
      "    if allUpper:\n",
      "        tblName = str.upper(tblName)\n",
      "    # note the lowercase will exclude the OGC_FID column which is already indexed\n",
      "    idxfields = [c[0] for c in crs.description if c[0].find(\"id\") != -1]\n",
      "    \n",
      "    # create a separate index on each joining column\n",
      "    #dropidxStmts = [cleanSQLTemplate.format(idxNameTemplate.format(c, str.lower(tblName)))\n",
      "    #                for c in idxfields]\n",
      "    dropidxStmts = []\n",
      "    idxStmts = []\n",
      "    print idxfields\n",
      "    \n",
      "    for c in idxfields:\n",
      "        idxName = idxNameTemplate.format(c, str.lower(tblName))\n",
      "        idxStmt = idxSQLTemplate.format(idxName, 'dhs_data_tables.\"'+ tblName + '\"', c)\n",
      "        if idxName in existingIndexes:\n",
      "            if replaceExisting:\n",
      "                dropidxStmt = cleanSQLTemplate.format(idxName)\n",
      "                dropidxStmts.append(dropidxStmt)\n",
      "                idxStmts.append(idxStmt)\n",
      "            else:\n",
      "                print \"Skipped existing idx \"+idxName\n",
      "        else:\n",
      "            idxStmts.append(idxStmt)\n",
      "    #idxStmts = [idxSQLTemplate.format(idxNameTemplate.format(c, str.lower(tblName)),\n",
      "    #                                  'dhs_data_tables.\"'+tblName+'\"', c) for c in idxfields]\n",
      "    \n",
      "    # also create a single covering index on all joining columns\n",
      "    if len(idxfields) > 1:\n",
      "        idxName = idxNameTemplate.format(\"ALLIDX\", str.lower(tblName))\n",
      "        allStmt = idxSQLTemplate.format(idxName,\n",
      "                                        'dhs_data_tables.\"'+tblName+'\"', \",\".join(idxfields))\n",
      "        if idxName in existingIndexes:\n",
      "            if replaceExisting:\n",
      "                dropAllStmt = cleanSQLTemplate.format(idxName)\n",
      "                dropidxStmts.append(dropAllStmt)\n",
      "                idxStmts.append(allStmt)\n",
      "            else:\n",
      "                print \"Skipped existing idx \"+idxName\n",
      "        else:\n",
      "            idxStmts.append(allStmt)\n",
      "    \n",
      "    # also create a covering index on the first two joining columns if there are three \n",
      "    # (or all except the last one, if there's more)\n",
      "    # e.g. surveyid and caseid but not bidx (the cols are in the appropriate order in the CSVs)\n",
      "    if len(idxfields) > 2:\n",
      "        idxName = idxNameTemplate.format(\"TWOIDX\", str.lower(tblName))\n",
      "        allStmt = idxSQLTemplate.format(idxName,\n",
      "                                        'dhs_data_tables.\"'+tblName+'\"', \",\".join(idxfields[:-1]))\n",
      "        if idxName in existingIndexes:\n",
      "            if replaceExisting:\n",
      "                dropAllStmt = cleanSQLTemplate.format(idxName)\n",
      "                dropidxStmts.append(dropAllStmt)\n",
      "                idxStmts.append(allStmt)\n",
      "            else:\n",
      "                print \"Skipped existing idx \"+idxName\n",
      "        else:\n",
      "            idxStmts.append(allStmt)\n",
      "    \n",
      "    dropIndexSQL = \"\\n\".join(dropidxStmts)\n",
      "    indexSQL = \"\\n\".join(idxStmts)\n",
      "    if runIt:\n",
      "        crs.executescript(dropIndexSQL)\n",
      "        crs.executescript(indexSQL)\n",
      "    allSQL.append(dropIndexSQL)\n",
      "    allSQL.append(indexSQL)\n",
      "if runIt:\n",
      "    dbconn.commit()\n",
      "    dbconn.close()"
     ],
     "language": "python",
     "metadata": {},
     "outputs": [
      {
       "output_type": "stream",
       "stream": "stdout",
       "text": [
        "REC31\n",
        "['surveyid', 'caseid']\n",
        "Skipped existing idx surveyid_rec31\n",
        "Skipped existing idx caseid_rec31\n",
        "REC91\n",
        "['surveyid', 'caseid', 'squestid']\n",
        "REC94\n",
        "['surveyid', 'caseid', 'idx94', 'rec94idx']\n",
        "REC95\n",
        "['surveyid', 'caseid', 'idx95']\n",
        "REC97\n",
        "['surveyid', 'caseid', 'idx97', 'pidx97', 'bidx97']\n",
        "RECH3\n",
        "['surveyid', 'hhid']\n",
        "REC42\n",
        "['surveyid', 'caseid']\n",
        "Skipped existing idx surveyid_rec42\n",
        "Skipped existing idx caseid_rec42\n",
        "RECH4_json\n",
        "['surveyid', 'hhid', 'idxh4']\n",
        "RECH4\n",
        "['surveyid', 'hhid', 'idxh4']\n",
        "REC98\n",
        "['surveyid', 'caseid', 'idx98', 'sidxm', 'bidx98', 's22id', 'spoidsm']\n",
        "RECHGS2\n",
        "['surveyid', 'hhid', 'idxgs']\n",
        "MREC75\n",
        "['surveyid', 'mcaseid']\n",
        "MREC11\n",
        "['surveyid', 'mcaseid']\n",
        "MREC32\n",
        "['surveyid', 'mcaseid']\n",
        "MREC31\n",
        "['surveyid', 'mcaseid']\n",
        "MRECDV\n",
        "['surveyid', 'mcaseid']\n",
        "MREC71\n",
        "['surveyid', 'mcaseid']\n",
        "MREC01\n",
        "['surveyid', 'mcaseid']\n",
        "MREC61\n",
        "['surveyid', 'mcaseid']\n",
        "MREC51\n",
        "['surveyid', 'mcaseid']\n",
        "MREC41\n",
        "['surveyid', 'mcaseid']\n",
        "MREC80\n",
        "['surveyid', 'mcaseid']\n",
        "MREC22\n",
        "['surveyid', 'mcaseid']\n",
        "MREC91\n",
        "['surveyid', 'mcaseid', 'sm812id']\n",
        "MRECGC\n",
        "['surveyid', 'mcaseid']\n",
        "MREC92\n",
        "['surveyid', 'mcaseid', 'smmidx']\n",
        "REC22\n",
        "['surveyid', 'caseid']\n",
        "Skipped existing idx surveyid_rec22\n",
        "Skipped existing idx caseid_rec22\n",
        "OTHREC\n",
        "['surveyid']"
       ]
      },
      {
       "output_type": "stream",
       "stream": "stdout",
       "text": [
        "\n",
        "Skipped existing idx surveyid_othrec\n",
        "REC01\n",
        "['surveyid', 'caseid']\n",
        "Skipped existing idx surveyid_rec01\n",
        "Skipped existing idx caseid_rec01\n",
        "REC11\n",
        "['surveyid', 'caseid']\n",
        "Skipped existing idx surveyid_rec11\n",
        "Skipped existing idx caseid_rec11\n",
        "REC21\n",
        "['surveyid', 'caseid', 'bidx']\n",
        "Skipped existing idx surveyid_rec21\n",
        "Skipped existing idx caseid_rec21\n",
        "Skipped existing idx bidx_rec21\n",
        "REC33\n",
        "['surveyid', 'caseid', 'cpidx']\n",
        "Skipped existing idx surveyid_rec33\n",
        "Skipped existing idx caseid_rec33\n",
        "Skipped existing idx cpidx_rec33\n",
        "REC44\n",
        "['surveyid', 'caseid', 'hwidx']\n",
        "Skipped existing idx surveyid_rec44\n",
        "Skipped existing idx caseid_rec44\n",
        "Skipped existing idx hwidx_rec44\n",
        "REC51\n",
        "['surveyid', 'caseid']\n",
        "Skipped existing idx surveyid_rec51\n",
        "Skipped existing idx caseid_rec51\n",
        "REC61\n",
        "['surveyid', 'caseid']\n",
        "Skipped existing idx surveyid_rec61\n",
        "Skipped existing idx caseid_rec61\n",
        "REC71\n",
        "['surveyid', 'caseid']\n",
        "Skipped existing idx surveyid_rec71\n",
        "Skipped existing idx caseid_rec71\n",
        "REC75\n",
        "['surveyid', 'caseid']\n",
        "Skipped existing idx surveyid_rec75\n",
        "Skipped existing idx caseid_rec75\n",
        "REC80\n",
        "['surveyid', 'caseid']\n",
        "Skipped existing idx surveyid_rec80\n",
        "Skipped existing idx caseid_rec80\n",
        "REC82\n",
        "['surveyid', 'caseid']\n",
        "Skipped existing idx surveyid_rec82\n",
        "Skipped existing idx caseid_rec82\n",
        "REC83\n",
        "['surveyid', 'caseid', 'mmidx']\n",
        "Skipped existing idx surveyid_rec83\n",
        "Skipped existing idx caseid_rec83\n",
        "Skipped existing idx mmidx_rec83\n",
        "REC84\n",
        "['surveyid', 'caseid']\n",
        "Skipped existing idx surveyid_rec84\n",
        "Skipped existing idx caseid_rec84\n",
        "REC93\n",
        "['surveyid', 'caseid', 'idx93']\n",
        "Skipped existing idx surveyid_rec93\n",
        "Skipped existing idx caseid_rec93\n",
        "Skipped existing idx idx93_rec93\n",
        "REC96\n",
        "['surveyid', 'caseid', 'idx96']\n",
        "Skipped existing idx surveyid_rec96\n",
        "Skipped existing idx caseid_rec96\n",
        "Skipped existing idx idx96_rec96\n",
        "REC9A\n",
        "['surveyid', 'caseid', 'idx9a']\n",
        "Skipped existing idx surveyid_rec9a\n",
        "Skipped existing idx caseid_rec9a\n",
        "Skipped existing idx idx9a_rec9a\n",
        "REC9B\n",
        "['surveyid', 'caseid', 's442id']\n",
        "Skipped existing idx surveyid_rec9b\n",
        "Skipped existing idx caseid_rec9b\n",
        "Skipped existing idx s442id_rec9b\n",
        "REC9C\n",
        "['surveyid', 'caseid']\n",
        "Skipped existing idx surveyid_rec9c\n",
        "Skipped existing idx caseid_rec9c\n",
        "RECFG\n",
        "['surveyid', 'caseid']\n",
        "Skipped existing idx surveyid_recfg\n",
        "Skipped existing idx caseid_recfg\n",
        "RECG2\n",
        "['surveyid', 'caseid', 'gidx']\n",
        "Skipped existing idx surveyid_recg2\n",
        "Skipped existing idx caseid_recg2\n",
        "Skipped existing idx gidx_recg2\n",
        "RECGC\n",
        "['surveyid', 'caseid']\n",
        "Skipped existing idx surveyid_recgc\n",
        "Skipped existing idx caseid_recgc\n",
        "RECH0\n",
        "['surveyid', 'hhid']\n",
        "Skipped existing idx surveyid_rech0\n",
        "Skipped existing idx hhid_rech0\n",
        "RECH1\n",
        "['surveyid', 'hhid', 'hvidx']\n",
        "Skipped existing idx surveyid_rech1\n",
        "Skipped existing idx hhid_rech1\n",
        "Skipped existing idx hvidx_rech1\n",
        "RECH11\n",
        "['surveyid', 'hhid']\n",
        "Skipped existing idx surveyid_rech11\n",
        "Skipped existing idx hhid_rech11\n",
        "RECH2A\n",
        "['surveyid', 'hhid']\n",
        "Skipped existing idx surveyid_rech2a\n",
        "Skipped existing idx hhid_rech2a\n",
        "RECH4A\n",
        "['surveyid', 'hhid', 'idxh4a']\n",
        "Skipped existing idx surveyid_rech4a\n",
        "Skipped existing idx hhid_rech4a\n",
        "Skipped existing idx idxh4a_rech4a\n",
        "RECH5A\n",
        "['surveyid', 'hhid']\n",
        "Skipped existing idx surveyid_rech5a\n",
        "Skipped existing idx hhid_rech5a\n",
        "RECH5CS\n",
        "['surveyid', 'hhid', 'idx5cs']\n",
        "Skipped existing idx surveyid_rech5cs\n",
        "Skipped existing idx hhid_rech5cs\n",
        "Skipped existing idx idx5cs_rech5cs\n",
        "RECH5M\n",
        "['surveyid', 'hhid']\n",
        "Skipped existing idx surveyid_rech5m\n",
        "Skipped existing idx hhid_rech5m\n",
        "RECH5S\n",
        "['surveyid', 'hhid']\n",
        "Skipped existing idx surveyid_rech5s\n",
        "Skipped existing idx hhid_rech5s\n",
        "RECH6\n",
        "['surveyid', 'hhid', 'idxh6']\n",
        "Skipped existing idx surveyid_rech6\n",
        "Skipped existing idx hhid_rech6\n",
        "Skipped existing idx idxh6_rech6\n",
        "RECH6A\n",
        "['surveyid', 'hhid']\n",
        "Skipped existing idx surveyid_rech6a\n",
        "Skipped existing idx hhid_rech6a\n",
        "RECH6B\n",
        "['surveyid', 'hhid', 'h6bidx']\n",
        "Skipped existing idx surveyid_rech6b\n",
        "Skipped existing idx hhid_rech6b\n",
        "Skipped existing idx h6bidx_rech6b\n",
        "RECH6S\n",
        "['surveyid', 'hhid']\n",
        "Skipped existing idx surveyid_rech6s\n",
        "Skipped existing idx hhid_rech6s\n",
        "RECH7A\n",
        "['surveyid', 'hhid']\n",
        "Skipped existing idx surveyid_rech7a\n",
        "Skipped existing idx hhid_rech7a\n",
        "RECH7B\n",
        "['surveyid', 'hhid']\n",
        "Skipped existing idx surveyid_rech7b\n",
        "Skipped existing idx hhid_rech7b\n",
        "RECH7C\n",
        "['surveyid', 'hhid']\n",
        "Skipped existing idx surveyid_rech7c\n",
        "Skipped existing idx hhid_rech7c\n",
        "RECH8\n",
        "['surveyid', 'hhid', 'idxh8', 'shidx8']"
       ]
      },
      {
       "output_type": "stream",
       "stream": "stdout",
       "text": [
        "\n",
        "Skipped existing idx surveyid_rech8\n",
        "Skipped existing idx hhid_rech8\n",
        "Skipped existing idx idxh8_rech8\n",
        "Skipped existing idx shidx8_rech8\n",
        "RECH9A\n",
        "['surveyid', 'hhid', 'idxh9a']\n",
        "Skipped existing idx surveyid_rech9a\n",
        "Skipped existing idx hhid_rech9a\n",
        "Skipped existing idx idxh9a_rech9a\n",
        "RECHA\n",
        "['surveyid', 'hhid', 'idxha', 'shidxa']\n",
        "Skipped existing idx surveyid_recha\n",
        "Skipped existing idx hhid_recha\n",
        "Skipped existing idx idxha_recha\n",
        "Skipped existing idx shidxa_recha\n",
        "RECHAA\n",
        "['surveyid', 'hhid']\n",
        "Skipped existing idx surveyid_rechaa\n",
        "Skipped existing idx hhid_rechaa\n",
        "RECHB\n",
        "['surveyid', 'hhid', 'idxhb', 'shidxb']\n",
        "Skipped existing idx surveyid_rechb\n",
        "Skipped existing idx hhid_rechb\n",
        "Skipped existing idx idxhb_rechb\n",
        "Skipped existing idx shidxb_rechb\n",
        "RECHBB\n",
        "['surveyid', 'hhid']\n",
        "Skipped existing idx surveyid_rechbb\n",
        "Skipped existing idx hhid_rechbb\n",
        "RECHC\n",
        "['surveyid', 'hhid', 'idxhc']\n",
        "Skipped existing idx surveyid_rechc\n",
        "Skipped existing idx hhid_rechc\n",
        "Skipped existing idx idxhc_rechc\n",
        "RECHCH\n",
        "['surveyid', 'hhid', 'hkidx']\n",
        "Skipped existing idx surveyid_rechch\n",
        "Skipped existing idx hhid_rechch\n",
        "Skipped existing idx hkidx_rechch\n",
        "RECHCH2\n",
        "['surveyid', 'hhid', 'idxch2']\n",
        "Skipped existing idx surveyid_rechch2\n",
        "Skipped existing idx hhid_rechch2\n",
        "Skipped existing idx idxch2_rechch2\n",
        "RECHCHL\n",
        "['surveyid', 'hhid', 'idxchl']\n",
        "Skipped existing idx surveyid_rechchl\n",
        "Skipped existing idx hhid_rechchl\n",
        "Skipped existing idx idxchl_rechchl\n",
        "RECHDI\n",
        "['surveyid', 'hhid']\n",
        "Skipped existing idx surveyid_rechdi\n",
        "Skipped existing idx hhid_rechdi\n",
        "RECHDP\n",
        "['surveyid', 'hhid', 'hdpidx']\n",
        "Skipped existing idx surveyid_rechdp\n",
        "Skipped existing idx hhid_rechdp\n",
        "Skipped existing idx hdpidx_rechdp\n",
        "RECHDP2\n",
        "['surveyid', 'hhid', 'hdpidx2']\n",
        "Skipped existing idx surveyid_rechdp2\n",
        "Skipped existing idx hhid_rechdp2\n",
        "Skipped existing idx hdpidx2_rechdp2\n",
        "RECHEL\n",
        "['surveyid', 'hhid', 'heidx']\n",
        "Skipped existing idx surveyid_rechel\n",
        "Skipped existing idx hhid_rechel\n",
        "Skipped existing idx heidx_rechel\n",
        "RECHG1\n",
        "['surveyid', 'hhid']\n",
        "Skipped existing idx surveyid_rechg1\n",
        "Skipped existing idx hhid_rechg1\n",
        "RECHGS1\n",
        "['surveyid', 'hhid']\n",
        "Skipped existing idx surveyid_rechgs1\n",
        "Skipped existing idx hhid_rechgs1\n",
        "RECHI\n",
        "['surveyid', 'hhid']\n",
        "Skipped existing idx surveyid_rechi\n",
        "Skipped existing idx hhid_rechi\n",
        "RECHII\n",
        "['surveyid', 'hhid']\n",
        "Skipped existing idx surveyid_rechii\n",
        "Skipped existing idx hhid_rechii\n",
        "RECHIL\n",
        "['surveyid', 'hhid']\n",
        "Skipped existing idx surveyid_rechil\n",
        "Skipped existing idx hhid_rechil\n",
        "RECHLB\n",
        "['surveyid', 'hhid']\n",
        "Skipped existing idx surveyid_rechlb\n",
        "Skipped existing idx hhid_rechlb\n",
        "RECHM1\n",
        "['surveyid', 'hhid']\n",
        "Skipped existing idx surveyid_rechm1\n",
        "Skipped existing idx hhid_rechm1\n",
        "RECHM2\n",
        "['surveyid', 'hhid']\n",
        "Skipped existing idx surveyid_rechm2\n",
        "Skipped existing idx hhid_rechm2\n",
        "RECHM3\n",
        "['surveyid', 'hhid']\n",
        "Skipped existing idx surveyid_rechm3\n",
        "Skipped existing idx hhid_rechm3\n",
        "RECHMA\n",
        "['surveyid', 'hhid']\n",
        "Skipped existing idx surveyid_rechma\n",
        "Skipped existing idx hhid_rechma\n",
        "RECHMC\n",
        "['surveyid', 'hhid', 'idxhmc', 'idxhml']\n",
        "Skipped existing idx surveyid_rechmc\n",
        "Skipped existing idx hhid_rechmc\n",
        "Skipped existing idx idxhmc_rechmc\n",
        "Skipped existing idx idxhml_rechmc\n",
        "RECHMCS\n",
        "['surveyid', 'hhid', 'hmcsidx', 'idxmcs']\n",
        "Skipped existing idx surveyid_rechmcs\n",
        "Skipped existing idx hhid_rechmcs\n",
        "Skipped existing idx hmcsidx_rechmcs\n",
        "Skipped existing idx idxmcs_rechmcs\n",
        "RECHMG\n",
        "['surveyid', 'hhid']\n",
        "Skipped existing idx surveyid_rechmg\n",
        "Skipped existing idx hhid_rechmg\n",
        "RECHMH\n",
        "['surveyid', 'hhid', 'hmhidx']\n",
        "Skipped existing idx surveyid_rechmh\n",
        "Skipped existing idx hhid_rechmh\n",
        "Skipped existing idx hmhidx_rechmh\n",
        "REC43\n",
        "['surveyid', 'caseid', 'hidx']\n",
        "Skipped existing idx surveyid_rec43\n",
        "Skipped existing idx caseid_rec43\n",
        "Skipped existing idx hidx_rec43\n",
        "RECH2\n",
        "['surveyid', 'hhid']\n",
        "Skipped existing idx surveyid_rech2\n",
        "Skipped existing idx hhid_rech2\n",
        "REC81\n",
        "['surveyid', 'caseid']\n",
        "Skipped existing idx surveyid_rec81\n",
        "Skipped existing idx caseid_rec81\n",
        "RECHPC\n",
        "['surveyid', 'hhid', 'hpcidx']\n",
        "Skipped existing idx surveyid_rechpc\n",
        "Skipped existing idx hhid_rechpc\n",
        "Skipped existing idx hpcidx_rechpc\n",
        "RECHS\n",
        "['surveyid', 'hhid', 'idxhs']\n",
        "Skipped existing idx surveyid_rechs\n",
        "Skipped existing idx hhid_rechs\n",
        "Skipped existing idx idxhs_rechs\n",
        "RECDV\n",
        "['surveyid', 'caseid']\n",
        "Skipped existing idx surveyid_recdv\n",
        "Skipped existing idx caseid_recdv\n",
        "RECH10\n",
        "['surveyid', 'hhid']\n",
        "Skipped existing idx surveyid_rech10\n",
        "Skipped existing idx hhid_rech10\n",
        "RECH7D\n",
        "['surveyid', 'hhid']\n",
        "Skipped existing idx surveyid_rech7d\n",
        "Skipped existing idx hhid_rech7d\n",
        "RECHCD\n",
        "['surveyid', 'hhid']\n",
        "Skipped existing idx surveyid_rechcd\n",
        "Skipped existing idx hhid_rechcd\n",
        "RECG1\n",
        "['surveyid', 'caseid']\n",
        "Skipped existing idx surveyid_recg1\n",
        "Skipped existing idx caseid_recg1\n",
        "RECHMH2\n",
        "['surveyid', 'hhid', 'hmhidx2']\n",
        "Skipped existing idx surveyid_rechmh2\n",
        "Skipped existing idx hhid_rechmh2\n",
        "Skipped existing idx hmhidx2_rechmh2\n",
        "RECHML2\n",
        "['surveyid', 'hhid', 'hmlidx2', 'hm2idx']\n",
        "Skipped existing idx surveyid_rechml2\n",
        "Skipped existing idx hhid_rechml2\n",
        "Skipped existing idx hmlidx2_rechml2\n",
        "Skipped existing idx hm2idx_rechml2\n",
        "HIVREC\n",
        "['surveyid']\n",
        "Skipped existing idx surveyid_hivrec\n",
        "RECHMLS\n",
        "['surveyid', 'hhid', 'shmlidx']\n",
        "Skipped existing idx surveyid_rechmls\n",
        "Skipped existing idx hhid_rechmls\n",
        "Skipped existing idx shmlidx_rechmls\n",
        "RECHMS\n",
        "['surveyid', 'hhid', 'shmlidx2']\n",
        "Skipped existing idx surveyid_rechms\n",
        "Skipped existing idx hhid_rechms\n",
        "Skipped existing idx shmlidx2_rechms\n",
        "RECHMT\n",
        "['surveyid', 'hhid']\n",
        "Skipped existing idx surveyid_rechmt\n",
        "Skipped existing idx hhid_rechmt\n",
        "RECHMW\n",
        "['surveyid', 'hhid', 'idxhmw']\n",
        "Skipped existing idx surveyid_rechmw\n",
        "Skipped existing idx hhid_rechmw\n",
        "Skipped existing idx idxhmw_rechmw"
       ]
      },
      {
       "output_type": "stream",
       "stream": "stdout",
       "text": [
        "\n",
        "RECHOV\n",
        "['surveyid', 'hhid', 'hovidx']\n",
        "Skipped existing idx surveyid_rechov\n",
        "Skipped existing idx hhid_rechov\n",
        "Skipped existing idx hovidx_rechov\n",
        "RECHSA\n",
        "['surveyid', 'hhid']\n",
        "Skipped existing idx surveyid_rechsa\n",
        "Skipped existing idx hhid_rechsa\n",
        "RECHSK\n",
        "['surveyid', 'hhid', 'hskidx']\n",
        "Skipped existing idx surveyid_rechsk\n",
        "Skipped existing idx hhid_rechsk\n",
        "Skipped existing idx hskidx_rechsk\n",
        "RECHW\n",
        "['surveyid', 'hhid']\n",
        "Skipped existing idx surveyid_rechw\n",
        "Skipped existing idx hhid_rechw\n",
        "RECHYT\n",
        "['surveyid', 'hhid', 'hyidx']\n",
        "Skipped existing idx surveyid_rechyt\n",
        "Skipped existing idx hhid_rechyt\n",
        "Skipped existing idx hyidx_rechyt\n",
        "RECML\n",
        "['surveyid', 'caseid', 'idxml']\n",
        "Skipped existing idx surveyid_recml\n",
        "Skipped existing idx caseid_recml\n",
        "Skipped existing idx idxml_recml\n",
        "REC92\n",
        "['surveyid', 'caseid', 'idx92', 'sbidx', 'bidx92', 'idxbh']\n",
        "Skipped existing idx surveyid_rec92\n",
        "Skipped existing idx caseid_rec92\n",
        "Skipped existing idx idx92_rec92\n",
        "Skipped existing idx sbidx_rec92\n",
        "Skipped existing idx bidx92_rec92\n",
        "Skipped existing idx idxbh_rec92\n",
        "RECHML\n",
        "['surveyid', 'hhid', 'hmlidx']\n",
        "Skipped existing idx surveyid_rechml\n",
        "Skipped existing idx hhid_rechml\n",
        "Skipped existing idx hmlidx_rechml\n",
        "REC41\n",
        "['surveyid', 'caseid', 'midx']\n",
        "Skipped existing idx surveyid_rec41\n",
        "Skipped existing idx caseid_rec41\n",
        "Skipped existing idx midx_rec41\n",
        "RECWS\n",
        "['surveyid', 'caseid']\n",
        "Skipped existing idx surveyid_recws\n",
        "Skipped existing idx caseid_recws\n",
        "REC32\n",
        "['surveyid', 'caseid']\n",
        "Skipped existing idx surveyid_rec32\n",
        "Skipped existing idx caseid_rec32\n",
        "REC85\n",
        "['surveyid', 'caseid']\n",
        "Skipped existing idx surveyid_rec85\n",
        "Skipped existing idx caseid_rec85\n",
        "RECH5\n",
        "['surveyid', 'hhid', 'idxh5']\n",
        "Skipped existing idx surveyid_rech5\n",
        "Skipped existing idx hhid_rech5\n",
        "Skipped existing idx idxh5_rech5\n",
        "REC99\n",
        "['surveyid', 'caseid', 'midx99', 'idx99', 'bidx99']\n",
        "Skipped existing idx surveyid_rec99\n",
        "Skipped existing idx caseid_rec99\n",
        "Skipped existing idx midx99_rec99\n",
        "Skipped existing idx idx99_rec99\n",
        "Skipped existing idx bidx99_rec99\n",
        "RECH7\n",
        "['surveyid', 'hhid', 'hmlidx', 'idxh7', 'shidxb']\n",
        "Skipped existing idx surveyid_rech7\n",
        "Skipped existing idx hhid_rech7\n",
        "Skipped existing idx hmlidx_rech7\n",
        "Skipped existing idx idxh7_rech7\n",
        "Skipped existing idx shidxb_rech7\n",
        "RECH9\n",
        "['surveyid', 'hhid', 'idxh9', 'shidx9']\n",
        "Skipped existing idx surveyid_rech9\n",
        "Skipped existing idx hhid_rech9\n",
        "Skipped existing idx idxh9_rech9\n",
        "Skipped existing idx shidx9_rech9\n",
        "RECHG2\n",
        "['surveyid', 'hhid']\n",
        "Skipped existing idx surveyid_rechg2\n",
        "Skipped existing idx hhid_rechg2\n"
       ]
      }
     ],
     "prompt_number": 16
    },
    {
     "cell_type": "code",
     "collapsed": false,
     "input": [
      "conn.reset()"
     ],
     "language": "python",
     "metadata": {},
     "outputs": [],
     "prompt_number": 16
    },
    {
     "cell_type": "code",
     "collapsed": false,
     "input": [
      "# NB there is another way of getting a list of table columns, i.e.:\n",
      "crs.execute(\"PRAGMA table_info([rec01])\")"
     ],
     "language": "python",
     "metadata": {},
     "outputs": [
      {
       "ename": "ProgrammingError",
       "evalue": "syntax error at or near \"PRAGMA\"\nLINE 1: PRAGMA table_info([rec01])\n        ^\n",
       "output_type": "pyerr",
       "traceback": [
        "\u001b[1;31m---------------------------------------------------------------------------\u001b[0m\n\u001b[1;31mProgrammingError\u001b[0m                          Traceback (most recent call last)",
        "\u001b[1;32m<ipython-input-17-90c38bbee457>\u001b[0m in \u001b[0;36m<module>\u001b[1;34m()\u001b[0m\n\u001b[0;32m      1\u001b[0m \u001b[1;31m# NB there is another way of getting a list of table columns, i.e.:\u001b[0m\u001b[1;33m\u001b[0m\u001b[1;33m\u001b[0m\u001b[0m\n\u001b[1;32m----> 2\u001b[1;33m \u001b[0mcrs\u001b[0m\u001b[1;33m.\u001b[0m\u001b[0mexecute\u001b[0m\u001b[1;33m(\u001b[0m\u001b[1;34m\"PRAGMA table_info([rec01])\"\u001b[0m\u001b[1;33m)\u001b[0m\u001b[1;33m\u001b[0m\u001b[0m\n\u001b[0m",
        "\u001b[1;31mProgrammingError\u001b[0m: syntax error at or near \"PRAGMA\"\nLINE 1: PRAGMA table_info([rec01])\n        ^\n"
       ]
      }
     ],
     "prompt_number": 17
    },
    {
     "cell_type": "code",
     "collapsed": false,
     "input": [
      "print \"\\n\".join(allSQL)"
     ],
     "language": "python",
     "metadata": {},
     "outputs": []
    },
    {
     "cell_type": "code",
     "collapsed": false,
     "input": [
      "conn.rollback()"
     ],
     "language": "python",
     "metadata": {},
     "outputs": [],
     "prompt_number": 22
    },
    {
     "cell_type": "code",
     "collapsed": false,
     "input": [
      "conn.commit()"
     ],
     "language": "python",
     "metadata": {},
     "outputs": [],
     "prompt_number": 19
    },
    {
     "cell_type": "code",
     "collapsed": false,
     "input": [
      "conn.close()"
     ],
     "language": "python",
     "metadata": {},
     "outputs": [],
     "prompt_number": 20
    },
    {
     "cell_type": "code",
     "collapsed": false,
     "input": [],
     "language": "python",
     "metadata": {},
     "outputs": []
    }
   ],
   "metadata": {}
  }
 ]
}